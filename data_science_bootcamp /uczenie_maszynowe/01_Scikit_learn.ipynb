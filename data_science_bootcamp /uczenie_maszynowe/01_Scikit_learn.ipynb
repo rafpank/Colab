{
  "nbformat": 4,
  "nbformat_minor": 0,
  "metadata": {
    "colab": {
      "provenance": [],
      "authorship_tag": "ABX9TyMOYJFZ6TZOHxkr08EHnmJJ",
      "include_colab_link": true
    },
    "kernelspec": {
      "name": "python3",
      "display_name": "Python 3"
    },
    "language_info": {
      "name": "python"
    }
  },
  "cells": [
    {
      "cell_type": "markdown",
      "metadata": {
        "id": "view-in-github",
        "colab_type": "text"
      },
      "source": [
        "<a href=\"https://colab.research.google.com/github/rafpank/Colab/blob/main/data_science_bootcamp%20/uczenie_maszynowe/01_Scikit_learn.ipynb\" target=\"_parent\"><img src=\"https://colab.research.google.com/assets/colab-badge.svg\" alt=\"Open In Colab\"/></a>"
      ]
    },
    {
      "cell_type": "markdown",
      "source": [
        "#scikit-learn\n",
        "Podstawowa biblioteka do uczenia maszynowego w języku Python\n",
        "\n",
        "Strona biblioteki: https://scikit-learn.org\n",
        "\n",
        "Dokumentacja: https://scikit-learn.org/stable/user_guide.html\n",
        "\n",
        "Instalacja:\n",
        "\n",
        "`pip install scikit-learn`\n",
        "\n",
        "a aktualizacja:\n",
        "\n",
        "`pip install -q --upgrade scikit-learn`\n",
        "\n",
        "Główne kategoie uczenia maszynowego\n",
        "\n",
        "\n",
        "*   Uczenie Nadzorowane\n",
        "    *   klasyfikacja\n",
        "    *   regresja\n",
        "*   Uczenie Nienadzorowane\n",
        "    *   klasteryzacja\n",
        "    *   redukcja wymiarowości\n",
        "\n",
        "\n",
        "\n",
        "\n",
        "\n",
        "\n",
        "\n",
        "\n",
        "\n"
      ],
      "metadata": {
        "id": "Do-7f3Nz7vsl"
      }
    },
    {
      "cell_type": "code",
      "execution_count": 1,
      "metadata": {
        "colab": {
          "base_uri": "https://localhost:8080/",
          "height": 35
        },
        "id": "k8xePyq8xR74",
        "outputId": "2e10e08d-1523-4d93-b59e-484130f873f9"
      },
      "outputs": [
        {
          "output_type": "execute_result",
          "data": {
            "text/plain": [
              "'1.5.2'"
            ],
            "application/vnd.google.colaboratory.intrinsic+json": {
              "type": "string"
            }
          },
          "metadata": {},
          "execution_count": 1
        }
      ],
      "source": [
        "import sklearn\n",
        "sklearn.__version__"
      ]
    },
    {
      "cell_type": "code",
      "source": [],
      "metadata": {
        "id": "aLlLZmas-Y6Q"
      },
      "execution_count": null,
      "outputs": []
    }
  ]
}