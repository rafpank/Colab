{
  "nbformat": 4,
  "nbformat_minor": 0,
  "metadata": {
    "colab": {
      "provenance": [],
      "authorship_tag": "ABX9TyPMqbtNAf7HdEWEPQsukhUm",
      "include_colab_link": true
    },
    "kernelspec": {
      "name": "python3",
      "display_name": "Python 3"
    },
    "language_info": {
      "name": "python"
    }
  },
  "cells": [
    {
      "cell_type": "markdown",
      "metadata": {
        "id": "view-in-github",
        "colab_type": "text"
      },
      "source": [
        "<a href=\"https://colab.research.google.com/github/rafpank/Colab/blob/main/data_science_bootcamp%20/uczenie_maszynowe/03_metryki_regresja.ipynb\" target=\"_parent\"><img src=\"https://colab.research.google.com/assets/colab-badge.svg\" alt=\"Open In Colab\"/></a>"
      ]
    },
    {
      "cell_type": "markdown",
      "source": [
        "Model regresyjny to taki który ma przewidzieć ciągłą wartość zmiennej czyli np cena akcji na giełdzie, albo liczbę klientów w danym miesiącu/dniu itp"
      ],
      "metadata": {
        "id": "Ex2KDb_qCU2a"
      }
    },
    {
      "cell_type": "code",
      "execution_count": 1,
      "metadata": {
        "id": "T_vCSejbCNZ-"
      },
      "outputs": [],
      "source": [
        "import numpy as np\n",
        "import pandas as pd\n",
        "import plotly.express as px\n",
        "import plotly.graph_objects as go"
      ]
    },
    {
      "cell_type": "code",
      "source": [
        "y_true = 100 + 20 * np.random.randn(50) #wygenerowanie 50 wartości z rozkładu normalnego z zakresem do 100 ale tez z odchyleniem 20\n",
        "y_true"
      ],
      "metadata": {
        "colab": {
          "base_uri": "https://localhost:8080/"
        },
        "id": "jc6r1iGnEwkm",
        "outputId": "630ef4ba-dd1d-4749-b00d-469025e98023"
      },
      "execution_count": 7,
      "outputs": [
        {
          "output_type": "execute_result",
          "data": {
            "text/plain": [
              "array([119.07195665, 125.06714093, 135.79077791,  71.714106  ,\n",
              "        94.86076293,  69.80187682, 128.00253117,  98.08097938,\n",
              "        91.95782372,  78.9142486 ,  88.90361896, 106.79095025,\n",
              "       110.71928127,  79.99366183, 144.4796644 , 136.08672465,\n",
              "        89.88746237, 130.8002947 , 102.41673874,  89.98520143,\n",
              "        84.48972174, 104.65139439,  99.93621033, 102.73126233,\n",
              "        78.85382594, 116.09857952,  76.77794519, 121.90430144,\n",
              "        86.78974192,  85.99461517, 125.87593748,  59.16984416,\n",
              "        99.82596266, 140.3220533 ,  68.07966504,  97.15022884,\n",
              "        95.1243161 , 105.20805323,  83.33053396, 110.3748254 ,\n",
              "       103.33215027,  89.09973889, 124.10313429,  98.94634444,\n",
              "       116.71572672,  91.89043083, 112.62607238, 143.15865904,\n",
              "       120.20037753, 101.82152982])"
            ]
          },
          "metadata": {},
          "execution_count": 7
        }
      ]
    },
    {
      "cell_type": "code",
      "source": [
        "y_pred = y_true + 10 * np.random.randn(50)\n",
        "y_pred"
      ],
      "metadata": {
        "colab": {
          "base_uri": "https://localhost:8080/"
        },
        "id": "neZXZ64ZFkkg",
        "outputId": "c63895a4-215f-4dd4-b95e-99d5af4ee0da"
      },
      "execution_count": 8,
      "outputs": [
        {
          "output_type": "execute_result",
          "data": {
            "text/plain": [
              "array([123.5104518 , 132.52497089, 142.67681272,  73.81252178,\n",
              "        94.39815326,  69.38641254, 124.11970666, 108.3833526 ,\n",
              "        89.2363008 ,  69.14423562,  80.99797338, 111.41115876,\n",
              "       111.37717145,  66.23047428, 150.26817888, 128.83260143,\n",
              "        95.68772429, 135.55148873, 102.92075288,  96.41540357,\n",
              "        88.16389695, 105.65793042, 105.30757175,  95.3638368 ,\n",
              "        73.95007028, 144.21023936,  64.27810121, 116.55927583,\n",
              "        90.41043443,  85.31776429, 138.99014775,  54.99605654,\n",
              "        80.71236574, 131.3685621 ,  75.82631057,  98.81399581,\n",
              "        89.01267127, 127.71573943,  73.62205176, 109.77081847,\n",
              "        87.65339745,  82.83219016, 137.4341114 ,  98.75820461,\n",
              "       109.7310686 ,  87.39129536, 125.96562583, 150.49252229,\n",
              "       129.62482192,  87.90398673])"
            ]
          },
          "metadata": {},
          "execution_count": 8
        }
      ]
    },
    {
      "cell_type": "code",
      "source": [
        "result = pd.DataFrame({'y_true': y_true, 'y_pred': y_pred})\n",
        "result.head(10)"
      ],
      "metadata": {
        "colab": {
          "base_uri": "https://localhost:8080/",
          "height": 363
        },
        "id": "OZ4P7FnLISzr",
        "outputId": "ab1316d4-154c-48e5-b6cf-d8271706b67f"
      },
      "execution_count": 9,
      "outputs": [
        {
          "output_type": "execute_result",
          "data": {
            "text/plain": [
              "       y_true      y_pred\n",
              "0  119.071957  123.510452\n",
              "1  125.067141  132.524971\n",
              "2  135.790778  142.676813\n",
              "3   71.714106   73.812522\n",
              "4   94.860763   94.398153\n",
              "5   69.801877   69.386413\n",
              "6  128.002531  124.119707\n",
              "7   98.080979  108.383353\n",
              "8   91.957824   89.236301\n",
              "9   78.914249   69.144236"
            ],
            "text/html": [
              "\n",
              "  <div id=\"df-bbe22fa4-759a-4036-a7b3-da487ead47d9\" class=\"colab-df-container\">\n",
              "    <div>\n",
              "<style scoped>\n",
              "    .dataframe tbody tr th:only-of-type {\n",
              "        vertical-align: middle;\n",
              "    }\n",
              "\n",
              "    .dataframe tbody tr th {\n",
              "        vertical-align: top;\n",
              "    }\n",
              "\n",
              "    .dataframe thead th {\n",
              "        text-align: right;\n",
              "    }\n",
              "</style>\n",
              "<table border=\"1\" class=\"dataframe\">\n",
              "  <thead>\n",
              "    <tr style=\"text-align: right;\">\n",
              "      <th></th>\n",
              "      <th>y_true</th>\n",
              "      <th>y_pred</th>\n",
              "    </tr>\n",
              "  </thead>\n",
              "  <tbody>\n",
              "    <tr>\n",
              "      <th>0</th>\n",
              "      <td>119.071957</td>\n",
              "      <td>123.510452</td>\n",
              "    </tr>\n",
              "    <tr>\n",
              "      <th>1</th>\n",
              "      <td>125.067141</td>\n",
              "      <td>132.524971</td>\n",
              "    </tr>\n",
              "    <tr>\n",
              "      <th>2</th>\n",
              "      <td>135.790778</td>\n",
              "      <td>142.676813</td>\n",
              "    </tr>\n",
              "    <tr>\n",
              "      <th>3</th>\n",
              "      <td>71.714106</td>\n",
              "      <td>73.812522</td>\n",
              "    </tr>\n",
              "    <tr>\n",
              "      <th>4</th>\n",
              "      <td>94.860763</td>\n",
              "      <td>94.398153</td>\n",
              "    </tr>\n",
              "    <tr>\n",
              "      <th>5</th>\n",
              "      <td>69.801877</td>\n",
              "      <td>69.386413</td>\n",
              "    </tr>\n",
              "    <tr>\n",
              "      <th>6</th>\n",
              "      <td>128.002531</td>\n",
              "      <td>124.119707</td>\n",
              "    </tr>\n",
              "    <tr>\n",
              "      <th>7</th>\n",
              "      <td>98.080979</td>\n",
              "      <td>108.383353</td>\n",
              "    </tr>\n",
              "    <tr>\n",
              "      <th>8</th>\n",
              "      <td>91.957824</td>\n",
              "      <td>89.236301</td>\n",
              "    </tr>\n",
              "    <tr>\n",
              "      <th>9</th>\n",
              "      <td>78.914249</td>\n",
              "      <td>69.144236</td>\n",
              "    </tr>\n",
              "  </tbody>\n",
              "</table>\n",
              "</div>\n",
              "    <div class=\"colab-df-buttons\">\n",
              "\n",
              "  <div class=\"colab-df-container\">\n",
              "    <button class=\"colab-df-convert\" onclick=\"convertToInteractive('df-bbe22fa4-759a-4036-a7b3-da487ead47d9')\"\n",
              "            title=\"Convert this dataframe to an interactive table.\"\n",
              "            style=\"display:none;\">\n",
              "\n",
              "  <svg xmlns=\"http://www.w3.org/2000/svg\" height=\"24px\" viewBox=\"0 -960 960 960\">\n",
              "    <path d=\"M120-120v-720h720v720H120Zm60-500h600v-160H180v160Zm220 220h160v-160H400v160Zm0 220h160v-160H400v160ZM180-400h160v-160H180v160Zm440 0h160v-160H620v160ZM180-180h160v-160H180v160Zm440 0h160v-160H620v160Z\"/>\n",
              "  </svg>\n",
              "    </button>\n",
              "\n",
              "  <style>\n",
              "    .colab-df-container {\n",
              "      display:flex;\n",
              "      gap: 12px;\n",
              "    }\n",
              "\n",
              "    .colab-df-convert {\n",
              "      background-color: #E8F0FE;\n",
              "      border: none;\n",
              "      border-radius: 50%;\n",
              "      cursor: pointer;\n",
              "      display: none;\n",
              "      fill: #1967D2;\n",
              "      height: 32px;\n",
              "      padding: 0 0 0 0;\n",
              "      width: 32px;\n",
              "    }\n",
              "\n",
              "    .colab-df-convert:hover {\n",
              "      background-color: #E2EBFA;\n",
              "      box-shadow: 0px 1px 2px rgba(60, 64, 67, 0.3), 0px 1px 3px 1px rgba(60, 64, 67, 0.15);\n",
              "      fill: #174EA6;\n",
              "    }\n",
              "\n",
              "    .colab-df-buttons div {\n",
              "      margin-bottom: 4px;\n",
              "    }\n",
              "\n",
              "    [theme=dark] .colab-df-convert {\n",
              "      background-color: #3B4455;\n",
              "      fill: #D2E3FC;\n",
              "    }\n",
              "\n",
              "    [theme=dark] .colab-df-convert:hover {\n",
              "      background-color: #434B5C;\n",
              "      box-shadow: 0px 1px 3px 1px rgba(0, 0, 0, 0.15);\n",
              "      filter: drop-shadow(0px 1px 2px rgba(0, 0, 0, 0.3));\n",
              "      fill: #FFFFFF;\n",
              "    }\n",
              "  </style>\n",
              "\n",
              "    <script>\n",
              "      const buttonEl =\n",
              "        document.querySelector('#df-bbe22fa4-759a-4036-a7b3-da487ead47d9 button.colab-df-convert');\n",
              "      buttonEl.style.display =\n",
              "        google.colab.kernel.accessAllowed ? 'block' : 'none';\n",
              "\n",
              "      async function convertToInteractive(key) {\n",
              "        const element = document.querySelector('#df-bbe22fa4-759a-4036-a7b3-da487ead47d9');\n",
              "        const dataTable =\n",
              "          await google.colab.kernel.invokeFunction('convertToInteractive',\n",
              "                                                    [key], {});\n",
              "        if (!dataTable) return;\n",
              "\n",
              "        const docLinkHtml = 'Like what you see? Visit the ' +\n",
              "          '<a target=\"_blank\" href=https://colab.research.google.com/notebooks/data_table.ipynb>data table notebook</a>'\n",
              "          + ' to learn more about interactive tables.';\n",
              "        element.innerHTML = '';\n",
              "        dataTable['output_type'] = 'display_data';\n",
              "        await google.colab.output.renderOutput(dataTable, element);\n",
              "        const docLink = document.createElement('div');\n",
              "        docLink.innerHTML = docLinkHtml;\n",
              "        element.appendChild(docLink);\n",
              "      }\n",
              "    </script>\n",
              "  </div>\n",
              "\n",
              "\n",
              "<div id=\"df-19a2b1f3-b91f-4ae6-8c55-e3204c2ac915\">\n",
              "  <button class=\"colab-df-quickchart\" onclick=\"quickchart('df-19a2b1f3-b91f-4ae6-8c55-e3204c2ac915')\"\n",
              "            title=\"Suggest charts\"\n",
              "            style=\"display:none;\">\n",
              "\n",
              "<svg xmlns=\"http://www.w3.org/2000/svg\" height=\"24px\"viewBox=\"0 0 24 24\"\n",
              "     width=\"24px\">\n",
              "    <g>\n",
              "        <path d=\"M19 3H5c-1.1 0-2 .9-2 2v14c0 1.1.9 2 2 2h14c1.1 0 2-.9 2-2V5c0-1.1-.9-2-2-2zM9 17H7v-7h2v7zm4 0h-2V7h2v10zm4 0h-2v-4h2v4z\"/>\n",
              "    </g>\n",
              "</svg>\n",
              "  </button>\n",
              "\n",
              "<style>\n",
              "  .colab-df-quickchart {\n",
              "      --bg-color: #E8F0FE;\n",
              "      --fill-color: #1967D2;\n",
              "      --hover-bg-color: #E2EBFA;\n",
              "      --hover-fill-color: #174EA6;\n",
              "      --disabled-fill-color: #AAA;\n",
              "      --disabled-bg-color: #DDD;\n",
              "  }\n",
              "\n",
              "  [theme=dark] .colab-df-quickchart {\n",
              "      --bg-color: #3B4455;\n",
              "      --fill-color: #D2E3FC;\n",
              "      --hover-bg-color: #434B5C;\n",
              "      --hover-fill-color: #FFFFFF;\n",
              "      --disabled-bg-color: #3B4455;\n",
              "      --disabled-fill-color: #666;\n",
              "  }\n",
              "\n",
              "  .colab-df-quickchart {\n",
              "    background-color: var(--bg-color);\n",
              "    border: none;\n",
              "    border-radius: 50%;\n",
              "    cursor: pointer;\n",
              "    display: none;\n",
              "    fill: var(--fill-color);\n",
              "    height: 32px;\n",
              "    padding: 0;\n",
              "    width: 32px;\n",
              "  }\n",
              "\n",
              "  .colab-df-quickchart:hover {\n",
              "    background-color: var(--hover-bg-color);\n",
              "    box-shadow: 0 1px 2px rgba(60, 64, 67, 0.3), 0 1px 3px 1px rgba(60, 64, 67, 0.15);\n",
              "    fill: var(--button-hover-fill-color);\n",
              "  }\n",
              "\n",
              "  .colab-df-quickchart-complete:disabled,\n",
              "  .colab-df-quickchart-complete:disabled:hover {\n",
              "    background-color: var(--disabled-bg-color);\n",
              "    fill: var(--disabled-fill-color);\n",
              "    box-shadow: none;\n",
              "  }\n",
              "\n",
              "  .colab-df-spinner {\n",
              "    border: 2px solid var(--fill-color);\n",
              "    border-color: transparent;\n",
              "    border-bottom-color: var(--fill-color);\n",
              "    animation:\n",
              "      spin 1s steps(1) infinite;\n",
              "  }\n",
              "\n",
              "  @keyframes spin {\n",
              "    0% {\n",
              "      border-color: transparent;\n",
              "      border-bottom-color: var(--fill-color);\n",
              "      border-left-color: var(--fill-color);\n",
              "    }\n",
              "    20% {\n",
              "      border-color: transparent;\n",
              "      border-left-color: var(--fill-color);\n",
              "      border-top-color: var(--fill-color);\n",
              "    }\n",
              "    30% {\n",
              "      border-color: transparent;\n",
              "      border-left-color: var(--fill-color);\n",
              "      border-top-color: var(--fill-color);\n",
              "      border-right-color: var(--fill-color);\n",
              "    }\n",
              "    40% {\n",
              "      border-color: transparent;\n",
              "      border-right-color: var(--fill-color);\n",
              "      border-top-color: var(--fill-color);\n",
              "    }\n",
              "    60% {\n",
              "      border-color: transparent;\n",
              "      border-right-color: var(--fill-color);\n",
              "    }\n",
              "    80% {\n",
              "      border-color: transparent;\n",
              "      border-right-color: var(--fill-color);\n",
              "      border-bottom-color: var(--fill-color);\n",
              "    }\n",
              "    90% {\n",
              "      border-color: transparent;\n",
              "      border-bottom-color: var(--fill-color);\n",
              "    }\n",
              "  }\n",
              "</style>\n",
              "\n",
              "  <script>\n",
              "    async function quickchart(key) {\n",
              "      const quickchartButtonEl =\n",
              "        document.querySelector('#' + key + ' button');\n",
              "      quickchartButtonEl.disabled = true;  // To prevent multiple clicks.\n",
              "      quickchartButtonEl.classList.add('colab-df-spinner');\n",
              "      try {\n",
              "        const charts = await google.colab.kernel.invokeFunction(\n",
              "            'suggestCharts', [key], {});\n",
              "      } catch (error) {\n",
              "        console.error('Error during call to suggestCharts:', error);\n",
              "      }\n",
              "      quickchartButtonEl.classList.remove('colab-df-spinner');\n",
              "      quickchartButtonEl.classList.add('colab-df-quickchart-complete');\n",
              "    }\n",
              "    (() => {\n",
              "      let quickchartButtonEl =\n",
              "        document.querySelector('#df-19a2b1f3-b91f-4ae6-8c55-e3204c2ac915 button');\n",
              "      quickchartButtonEl.style.display =\n",
              "        google.colab.kernel.accessAllowed ? 'block' : 'none';\n",
              "    })();\n",
              "  </script>\n",
              "</div>\n",
              "\n",
              "    </div>\n",
              "  </div>\n"
            ],
            "application/vnd.google.colaboratory.intrinsic+json": {
              "type": "dataframe",
              "variable_name": "result",
              "summary": "{\n  \"name\": \"result\",\n  \"rows\": 50,\n  \"fields\": [\n    {\n      \"column\": \"y_true\",\n      \"properties\": {\n        \"dtype\": \"number\",\n        \"std\": 20.865332482608547,\n        \"min\": 59.16984415925022,\n        \"max\": 144.4796643992497,\n        \"num_unique_values\": 50,\n        \"samples\": [\n          79.99366183179987,\n          110.374825397502,\n          125.87593747765939\n        ],\n        \"semantic_type\": \"\",\n        \"description\": \"\"\n      }\n    },\n    {\n      \"column\": \"y_pred\",\n      \"properties\": {\n        \"dtype\": \"number\",\n        \"std\": 25.14539703772676,\n        \"min\": 54.996056543296476,\n        \"max\": 150.49252228550142,\n        \"num_unique_values\": 50,\n        \"samples\": [\n          66.230474277028,\n          109.77081846546662,\n          138.99014774618792\n        ],\n        \"semantic_type\": \"\",\n        \"description\": \"\"\n      }\n    }\n  ]\n}"
            }
          },
          "metadata": {},
          "execution_count": 9
        }
      ]
    },
    {
      "cell_type": "code",
      "source": [
        "result['error'] = result['y_true'] - result['y_pred']\n",
        "result.head(10)"
      ],
      "metadata": {
        "colab": {
          "base_uri": "https://localhost:8080/",
          "height": 363
        },
        "id": "TH0OUuvPJwou",
        "outputId": "30ff836c-0265-48d4-ac29-43945aae9d75"
      },
      "execution_count": 10,
      "outputs": [
        {
          "output_type": "execute_result",
          "data": {
            "text/plain": [
              "       y_true      y_pred      error\n",
              "0  119.071957  123.510452  -4.438495\n",
              "1  125.067141  132.524971  -7.457830\n",
              "2  135.790778  142.676813  -6.886035\n",
              "3   71.714106   73.812522  -2.098416\n",
              "4   94.860763   94.398153   0.462610\n",
              "5   69.801877   69.386413   0.415464\n",
              "6  128.002531  124.119707   3.882825\n",
              "7   98.080979  108.383353 -10.302373\n",
              "8   91.957824   89.236301   2.721523\n",
              "9   78.914249   69.144236   9.770013"
            ],
            "text/html": [
              "\n",
              "  <div id=\"df-fcaa0d2f-1f26-48a4-9d4b-807ebc9f6818\" class=\"colab-df-container\">\n",
              "    <div>\n",
              "<style scoped>\n",
              "    .dataframe tbody tr th:only-of-type {\n",
              "        vertical-align: middle;\n",
              "    }\n",
              "\n",
              "    .dataframe tbody tr th {\n",
              "        vertical-align: top;\n",
              "    }\n",
              "\n",
              "    .dataframe thead th {\n",
              "        text-align: right;\n",
              "    }\n",
              "</style>\n",
              "<table border=\"1\" class=\"dataframe\">\n",
              "  <thead>\n",
              "    <tr style=\"text-align: right;\">\n",
              "      <th></th>\n",
              "      <th>y_true</th>\n",
              "      <th>y_pred</th>\n",
              "      <th>error</th>\n",
              "    </tr>\n",
              "  </thead>\n",
              "  <tbody>\n",
              "    <tr>\n",
              "      <th>0</th>\n",
              "      <td>119.071957</td>\n",
              "      <td>123.510452</td>\n",
              "      <td>-4.438495</td>\n",
              "    </tr>\n",
              "    <tr>\n",
              "      <th>1</th>\n",
              "      <td>125.067141</td>\n",
              "      <td>132.524971</td>\n",
              "      <td>-7.457830</td>\n",
              "    </tr>\n",
              "    <tr>\n",
              "      <th>2</th>\n",
              "      <td>135.790778</td>\n",
              "      <td>142.676813</td>\n",
              "      <td>-6.886035</td>\n",
              "    </tr>\n",
              "    <tr>\n",
              "      <th>3</th>\n",
              "      <td>71.714106</td>\n",
              "      <td>73.812522</td>\n",
              "      <td>-2.098416</td>\n",
              "    </tr>\n",
              "    <tr>\n",
              "      <th>4</th>\n",
              "      <td>94.860763</td>\n",
              "      <td>94.398153</td>\n",
              "      <td>0.462610</td>\n",
              "    </tr>\n",
              "    <tr>\n",
              "      <th>5</th>\n",
              "      <td>69.801877</td>\n",
              "      <td>69.386413</td>\n",
              "      <td>0.415464</td>\n",
              "    </tr>\n",
              "    <tr>\n",
              "      <th>6</th>\n",
              "      <td>128.002531</td>\n",
              "      <td>124.119707</td>\n",
              "      <td>3.882825</td>\n",
              "    </tr>\n",
              "    <tr>\n",
              "      <th>7</th>\n",
              "      <td>98.080979</td>\n",
              "      <td>108.383353</td>\n",
              "      <td>-10.302373</td>\n",
              "    </tr>\n",
              "    <tr>\n",
              "      <th>8</th>\n",
              "      <td>91.957824</td>\n",
              "      <td>89.236301</td>\n",
              "      <td>2.721523</td>\n",
              "    </tr>\n",
              "    <tr>\n",
              "      <th>9</th>\n",
              "      <td>78.914249</td>\n",
              "      <td>69.144236</td>\n",
              "      <td>9.770013</td>\n",
              "    </tr>\n",
              "  </tbody>\n",
              "</table>\n",
              "</div>\n",
              "    <div class=\"colab-df-buttons\">\n",
              "\n",
              "  <div class=\"colab-df-container\">\n",
              "    <button class=\"colab-df-convert\" onclick=\"convertToInteractive('df-fcaa0d2f-1f26-48a4-9d4b-807ebc9f6818')\"\n",
              "            title=\"Convert this dataframe to an interactive table.\"\n",
              "            style=\"display:none;\">\n",
              "\n",
              "  <svg xmlns=\"http://www.w3.org/2000/svg\" height=\"24px\" viewBox=\"0 -960 960 960\">\n",
              "    <path d=\"M120-120v-720h720v720H120Zm60-500h600v-160H180v160Zm220 220h160v-160H400v160Zm0 220h160v-160H400v160ZM180-400h160v-160H180v160Zm440 0h160v-160H620v160ZM180-180h160v-160H180v160Zm440 0h160v-160H620v160Z\"/>\n",
              "  </svg>\n",
              "    </button>\n",
              "\n",
              "  <style>\n",
              "    .colab-df-container {\n",
              "      display:flex;\n",
              "      gap: 12px;\n",
              "    }\n",
              "\n",
              "    .colab-df-convert {\n",
              "      background-color: #E8F0FE;\n",
              "      border: none;\n",
              "      border-radius: 50%;\n",
              "      cursor: pointer;\n",
              "      display: none;\n",
              "      fill: #1967D2;\n",
              "      height: 32px;\n",
              "      padding: 0 0 0 0;\n",
              "      width: 32px;\n",
              "    }\n",
              "\n",
              "    .colab-df-convert:hover {\n",
              "      background-color: #E2EBFA;\n",
              "      box-shadow: 0px 1px 2px rgba(60, 64, 67, 0.3), 0px 1px 3px 1px rgba(60, 64, 67, 0.15);\n",
              "      fill: #174EA6;\n",
              "    }\n",
              "\n",
              "    .colab-df-buttons div {\n",
              "      margin-bottom: 4px;\n",
              "    }\n",
              "\n",
              "    [theme=dark] .colab-df-convert {\n",
              "      background-color: #3B4455;\n",
              "      fill: #D2E3FC;\n",
              "    }\n",
              "\n",
              "    [theme=dark] .colab-df-convert:hover {\n",
              "      background-color: #434B5C;\n",
              "      box-shadow: 0px 1px 3px 1px rgba(0, 0, 0, 0.15);\n",
              "      filter: drop-shadow(0px 1px 2px rgba(0, 0, 0, 0.3));\n",
              "      fill: #FFFFFF;\n",
              "    }\n",
              "  </style>\n",
              "\n",
              "    <script>\n",
              "      const buttonEl =\n",
              "        document.querySelector('#df-fcaa0d2f-1f26-48a4-9d4b-807ebc9f6818 button.colab-df-convert');\n",
              "      buttonEl.style.display =\n",
              "        google.colab.kernel.accessAllowed ? 'block' : 'none';\n",
              "\n",
              "      async function convertToInteractive(key) {\n",
              "        const element = document.querySelector('#df-fcaa0d2f-1f26-48a4-9d4b-807ebc9f6818');\n",
              "        const dataTable =\n",
              "          await google.colab.kernel.invokeFunction('convertToInteractive',\n",
              "                                                    [key], {});\n",
              "        if (!dataTable) return;\n",
              "\n",
              "        const docLinkHtml = 'Like what you see? Visit the ' +\n",
              "          '<a target=\"_blank\" href=https://colab.research.google.com/notebooks/data_table.ipynb>data table notebook</a>'\n",
              "          + ' to learn more about interactive tables.';\n",
              "        element.innerHTML = '';\n",
              "        dataTable['output_type'] = 'display_data';\n",
              "        await google.colab.output.renderOutput(dataTable, element);\n",
              "        const docLink = document.createElement('div');\n",
              "        docLink.innerHTML = docLinkHtml;\n",
              "        element.appendChild(docLink);\n",
              "      }\n",
              "    </script>\n",
              "  </div>\n",
              "\n",
              "\n",
              "<div id=\"df-da3e4d99-5c55-4daf-ad53-7bcb382a42c8\">\n",
              "  <button class=\"colab-df-quickchart\" onclick=\"quickchart('df-da3e4d99-5c55-4daf-ad53-7bcb382a42c8')\"\n",
              "            title=\"Suggest charts\"\n",
              "            style=\"display:none;\">\n",
              "\n",
              "<svg xmlns=\"http://www.w3.org/2000/svg\" height=\"24px\"viewBox=\"0 0 24 24\"\n",
              "     width=\"24px\">\n",
              "    <g>\n",
              "        <path d=\"M19 3H5c-1.1 0-2 .9-2 2v14c0 1.1.9 2 2 2h14c1.1 0 2-.9 2-2V5c0-1.1-.9-2-2-2zM9 17H7v-7h2v7zm4 0h-2V7h2v10zm4 0h-2v-4h2v4z\"/>\n",
              "    </g>\n",
              "</svg>\n",
              "  </button>\n",
              "\n",
              "<style>\n",
              "  .colab-df-quickchart {\n",
              "      --bg-color: #E8F0FE;\n",
              "      --fill-color: #1967D2;\n",
              "      --hover-bg-color: #E2EBFA;\n",
              "      --hover-fill-color: #174EA6;\n",
              "      --disabled-fill-color: #AAA;\n",
              "      --disabled-bg-color: #DDD;\n",
              "  }\n",
              "\n",
              "  [theme=dark] .colab-df-quickchart {\n",
              "      --bg-color: #3B4455;\n",
              "      --fill-color: #D2E3FC;\n",
              "      --hover-bg-color: #434B5C;\n",
              "      --hover-fill-color: #FFFFFF;\n",
              "      --disabled-bg-color: #3B4455;\n",
              "      --disabled-fill-color: #666;\n",
              "  }\n",
              "\n",
              "  .colab-df-quickchart {\n",
              "    background-color: var(--bg-color);\n",
              "    border: none;\n",
              "    border-radius: 50%;\n",
              "    cursor: pointer;\n",
              "    display: none;\n",
              "    fill: var(--fill-color);\n",
              "    height: 32px;\n",
              "    padding: 0;\n",
              "    width: 32px;\n",
              "  }\n",
              "\n",
              "  .colab-df-quickchart:hover {\n",
              "    background-color: var(--hover-bg-color);\n",
              "    box-shadow: 0 1px 2px rgba(60, 64, 67, 0.3), 0 1px 3px 1px rgba(60, 64, 67, 0.15);\n",
              "    fill: var(--button-hover-fill-color);\n",
              "  }\n",
              "\n",
              "  .colab-df-quickchart-complete:disabled,\n",
              "  .colab-df-quickchart-complete:disabled:hover {\n",
              "    background-color: var(--disabled-bg-color);\n",
              "    fill: var(--disabled-fill-color);\n",
              "    box-shadow: none;\n",
              "  }\n",
              "\n",
              "  .colab-df-spinner {\n",
              "    border: 2px solid var(--fill-color);\n",
              "    border-color: transparent;\n",
              "    border-bottom-color: var(--fill-color);\n",
              "    animation:\n",
              "      spin 1s steps(1) infinite;\n",
              "  }\n",
              "\n",
              "  @keyframes spin {\n",
              "    0% {\n",
              "      border-color: transparent;\n",
              "      border-bottom-color: var(--fill-color);\n",
              "      border-left-color: var(--fill-color);\n",
              "    }\n",
              "    20% {\n",
              "      border-color: transparent;\n",
              "      border-left-color: var(--fill-color);\n",
              "      border-top-color: var(--fill-color);\n",
              "    }\n",
              "    30% {\n",
              "      border-color: transparent;\n",
              "      border-left-color: var(--fill-color);\n",
              "      border-top-color: var(--fill-color);\n",
              "      border-right-color: var(--fill-color);\n",
              "    }\n",
              "    40% {\n",
              "      border-color: transparent;\n",
              "      border-right-color: var(--fill-color);\n",
              "      border-top-color: var(--fill-color);\n",
              "    }\n",
              "    60% {\n",
              "      border-color: transparent;\n",
              "      border-right-color: var(--fill-color);\n",
              "    }\n",
              "    80% {\n",
              "      border-color: transparent;\n",
              "      border-right-color: var(--fill-color);\n",
              "      border-bottom-color: var(--fill-color);\n",
              "    }\n",
              "    90% {\n",
              "      border-color: transparent;\n",
              "      border-bottom-color: var(--fill-color);\n",
              "    }\n",
              "  }\n",
              "</style>\n",
              "\n",
              "  <script>\n",
              "    async function quickchart(key) {\n",
              "      const quickchartButtonEl =\n",
              "        document.querySelector('#' + key + ' button');\n",
              "      quickchartButtonEl.disabled = true;  // To prevent multiple clicks.\n",
              "      quickchartButtonEl.classList.add('colab-df-spinner');\n",
              "      try {\n",
              "        const charts = await google.colab.kernel.invokeFunction(\n",
              "            'suggestCharts', [key], {});\n",
              "      } catch (error) {\n",
              "        console.error('Error during call to suggestCharts:', error);\n",
              "      }\n",
              "      quickchartButtonEl.classList.remove('colab-df-spinner');\n",
              "      quickchartButtonEl.classList.add('colab-df-quickchart-complete');\n",
              "    }\n",
              "    (() => {\n",
              "      let quickchartButtonEl =\n",
              "        document.querySelector('#df-da3e4d99-5c55-4daf-ad53-7bcb382a42c8 button');\n",
              "      quickchartButtonEl.style.display =\n",
              "        google.colab.kernel.accessAllowed ? 'block' : 'none';\n",
              "    })();\n",
              "  </script>\n",
              "</div>\n",
              "\n",
              "    </div>\n",
              "  </div>\n"
            ],
            "application/vnd.google.colaboratory.intrinsic+json": {
              "type": "dataframe",
              "variable_name": "result",
              "summary": "{\n  \"name\": \"result\",\n  \"rows\": 50,\n  \"fields\": [\n    {\n      \"column\": \"y_true\",\n      \"properties\": {\n        \"dtype\": \"number\",\n        \"std\": 20.865332482608547,\n        \"min\": 59.16984415925022,\n        \"max\": 144.4796643992497,\n        \"num_unique_values\": 50,\n        \"samples\": [\n          79.99366183179987,\n          110.374825397502,\n          125.87593747765939\n        ],\n        \"semantic_type\": \"\",\n        \"description\": \"\"\n      }\n    },\n    {\n      \"column\": \"y_pred\",\n      \"properties\": {\n        \"dtype\": \"number\",\n        \"std\": 25.14539703772676,\n        \"min\": 54.996056543296476,\n        \"max\": 150.49252228550142,\n        \"num_unique_values\": 50,\n        \"samples\": [\n          66.230474277028,\n          109.77081846546662,\n          138.99014774618792\n        ],\n        \"semantic_type\": \"\",\n        \"description\": \"\"\n      }\n    },\n    {\n      \"column\": \"error\",\n      \"properties\": {\n        \"dtype\": \"number\",\n        \"std\": 9.363752867549817,\n        \"min\": -28.11165983817699,\n        \"max\": 19.113596912450177,\n        \"num_unique_values\": 50,\n        \"samples\": [\n          13.763187554771875,\n          0.6040069320353751,\n          -13.114210268528524\n        ],\n        \"semantic_type\": \"\",\n        \"description\": \"\"\n      }\n    }\n  ]\n}"
            }
          },
          "metadata": {},
          "execution_count": 10
        }
      ]
    },
    {
      "cell_type": "markdown",
      "source": [
        "#Interpretacja graficzna\n"
      ],
      "metadata": {
        "id": "ijGZn1QhKuYE"
      }
    },
    {
      "cell_type": "code",
      "source": [
        "def plot_regression_results(y_true, y_pred):\n",
        "    results = pd.DataFrame({'y_true': y_true, 'y_pred': y_pred}) #standarowo do wykresu obiekt DataFrame\n",
        "    min = results[['y_true', 'y_pred']].min().min() #wyznaczam pkt minimum żeby móc wyznaczyć linie trendu\n",
        "    max = results[['y_true', 'y_pred']].max().max() #wyznaczam pkt maksimum\n",
        "\n",
        "    fig = go.Figure(data=[go.Scatter(x=results['y_true'], y=results['y_pred'], mode='markers'), #przekazuje wartości do obiektu fig\n",
        "                    go.Scatter(x=[min, max], y=[min, max])], #przekazujemy drugi ślad (tą czerwoną linię)\n",
        "                    layout=go.Layout(showlegend=False, width=800, height=500,\n",
        "                                     xaxis_title='y_true',\n",
        "                                     yaxis_title='y_pred',\n",
        "                                     title='Regression results'))\n",
        "    fig.show()\n",
        "plot_regression_results(y_true, y_pred)"
      ],
      "metadata": {
        "colab": {
          "base_uri": "https://localhost:8080/",
          "height": 517
        },
        "id": "U-7WhpM9KszA",
        "outputId": "b19db099-5719-4e04-b510-b5bc0c5a6da1"
      },
      "execution_count": 13,
      "outputs": [
        {
          "output_type": "display_data",
          "data": {
            "text/html": [
              "<html>\n",
              "<head><meta charset=\"utf-8\" /></head>\n",
              "<body>\n",
              "    <div>            <script src=\"https://cdnjs.cloudflare.com/ajax/libs/mathjax/2.7.5/MathJax.js?config=TeX-AMS-MML_SVG\"></script><script type=\"text/javascript\">if (window.MathJax && window.MathJax.Hub && window.MathJax.Hub.Config) {window.MathJax.Hub.Config({SVG: {font: \"STIX-Web\"}});}</script>                <script type=\"text/javascript\">window.PlotlyConfig = {MathJaxConfig: 'local'};</script>\n",
              "        <script charset=\"utf-8\" src=\"https://cdn.plot.ly/plotly-2.35.2.min.js\"></script>                <div id=\"5c2cbc56-da62-43dc-82f3-8ccd5d09a49f\" class=\"plotly-graph-div\" style=\"height:500px; width:800px;\"></div>            <script type=\"text/javascript\">                                    window.PLOTLYENV=window.PLOTLYENV || {};                                    if (document.getElementById(\"5c2cbc56-da62-43dc-82f3-8ccd5d09a49f\")) {                    Plotly.newPlot(                        \"5c2cbc56-da62-43dc-82f3-8ccd5d09a49f\",                        [{\"mode\":\"markers\",\"x\":[119.07195665280129,125.067140933497,135.79077791459142,71.71410599848761,94.86076292525743,69.80187682045074,128.00253117334455,98.0809793766027,91.9578237181097,78.91424859874536,88.90361896139707,106.79095024554722,110.71928127161445,79.99366183179987,144.4796643992497,136.08672465162127,89.88746237333928,130.80029469731355,102.41673873931678,89.98520142596048,84.48972173748726,104.65139438788209,99.93621032654838,102.73126233269804,78.85382594268684,116.09857952342719,76.7779451855452,121.9043014411431,86.78974192486874,85.99461516755237,125.87593747765939,59.16984415925022,99.82596265542888,140.32205329773018,68.079665044882,97.15022884455111,95.12431610083195,105.20805322901117,83.33053396358548,110.374825397502,103.3321502659503,89.09973888536301,124.10313428847549,98.94634443667503,116.71572672084255,91.89043083476975,112.62607237904666,143.15865904193953,120.20037753467723,101.82152981786984],\"y\":[123.51045180218792,132.524970891604,142.67681272254666,73.81252178111545,94.3981532567374,69.3864125374898,124.11970665781811,108.38335260111342,89.23630080499996,69.14423561810364,80.99797337919733,111.41115875962993,111.37717145214765,66.230474277028,150.26817888207822,128.83260143147848,95.6877242902538,135.55148873218465,102.92075288085033,96.41540356828268,88.16389694769175,105.65793041634424,105.30757175001996,95.36383679612393,73.95007028121405,144.21023936160418,64.27810120675636,116.55927583180615,90.41043443413217,85.31776428928528,138.99014774618792,54.996056543296476,80.7123657429787,131.3685621023949,75.82631057130834,98.81399581246289,89.01267126814466,127.71573942754696,73.62205175806129,109.77081846546662,87.65339744874376,82.83219016367674,137.43411140473572,98.7582046129657,109.73106859741152,87.39129535518832,125.9656258313123,150.49252228550142,129.62482192206562,87.90398672654639],\"type\":\"scatter\"},{\"x\":[54.996056543296476,150.49252228550142],\"y\":[54.996056543296476,150.49252228550142],\"type\":\"scatter\"}],                        {\"height\":500,\"showlegend\":false,\"title\":{\"text\":\"Regression results\"},\"width\":800,\"xaxis\":{\"title\":{\"text\":\"y_true\"}},\"yaxis\":{\"title\":{\"text\":\"y_pred\"}},\"template\":{\"data\":{\"histogram2dcontour\":[{\"type\":\"histogram2dcontour\",\"colorbar\":{\"outlinewidth\":0,\"ticks\":\"\"},\"colorscale\":[[0.0,\"#0d0887\"],[0.1111111111111111,\"#46039f\"],[0.2222222222222222,\"#7201a8\"],[0.3333333333333333,\"#9c179e\"],[0.4444444444444444,\"#bd3786\"],[0.5555555555555556,\"#d8576b\"],[0.6666666666666666,\"#ed7953\"],[0.7777777777777778,\"#fb9f3a\"],[0.8888888888888888,\"#fdca26\"],[1.0,\"#f0f921\"]]}],\"choropleth\":[{\"type\":\"choropleth\",\"colorbar\":{\"outlinewidth\":0,\"ticks\":\"\"}}],\"histogram2d\":[{\"type\":\"histogram2d\",\"colorbar\":{\"outlinewidth\":0,\"ticks\":\"\"},\"colorscale\":[[0.0,\"#0d0887\"],[0.1111111111111111,\"#46039f\"],[0.2222222222222222,\"#7201a8\"],[0.3333333333333333,\"#9c179e\"],[0.4444444444444444,\"#bd3786\"],[0.5555555555555556,\"#d8576b\"],[0.6666666666666666,\"#ed7953\"],[0.7777777777777778,\"#fb9f3a\"],[0.8888888888888888,\"#fdca26\"],[1.0,\"#f0f921\"]]}],\"heatmap\":[{\"type\":\"heatmap\",\"colorbar\":{\"outlinewidth\":0,\"ticks\":\"\"},\"colorscale\":[[0.0,\"#0d0887\"],[0.1111111111111111,\"#46039f\"],[0.2222222222222222,\"#7201a8\"],[0.3333333333333333,\"#9c179e\"],[0.4444444444444444,\"#bd3786\"],[0.5555555555555556,\"#d8576b\"],[0.6666666666666666,\"#ed7953\"],[0.7777777777777778,\"#fb9f3a\"],[0.8888888888888888,\"#fdca26\"],[1.0,\"#f0f921\"]]}],\"heatmapgl\":[{\"type\":\"heatmapgl\",\"colorbar\":{\"outlinewidth\":0,\"ticks\":\"\"},\"colorscale\":[[0.0,\"#0d0887\"],[0.1111111111111111,\"#46039f\"],[0.2222222222222222,\"#7201a8\"],[0.3333333333333333,\"#9c179e\"],[0.4444444444444444,\"#bd3786\"],[0.5555555555555556,\"#d8576b\"],[0.6666666666666666,\"#ed7953\"],[0.7777777777777778,\"#fb9f3a\"],[0.8888888888888888,\"#fdca26\"],[1.0,\"#f0f921\"]]}],\"contourcarpet\":[{\"type\":\"contourcarpet\",\"colorbar\":{\"outlinewidth\":0,\"ticks\":\"\"}}],\"contour\":[{\"type\":\"contour\",\"colorbar\":{\"outlinewidth\":0,\"ticks\":\"\"},\"colorscale\":[[0.0,\"#0d0887\"],[0.1111111111111111,\"#46039f\"],[0.2222222222222222,\"#7201a8\"],[0.3333333333333333,\"#9c179e\"],[0.4444444444444444,\"#bd3786\"],[0.5555555555555556,\"#d8576b\"],[0.6666666666666666,\"#ed7953\"],[0.7777777777777778,\"#fb9f3a\"],[0.8888888888888888,\"#fdca26\"],[1.0,\"#f0f921\"]]}],\"surface\":[{\"type\":\"surface\",\"colorbar\":{\"outlinewidth\":0,\"ticks\":\"\"},\"colorscale\":[[0.0,\"#0d0887\"],[0.1111111111111111,\"#46039f\"],[0.2222222222222222,\"#7201a8\"],[0.3333333333333333,\"#9c179e\"],[0.4444444444444444,\"#bd3786\"],[0.5555555555555556,\"#d8576b\"],[0.6666666666666666,\"#ed7953\"],[0.7777777777777778,\"#fb9f3a\"],[0.8888888888888888,\"#fdca26\"],[1.0,\"#f0f921\"]]}],\"mesh3d\":[{\"type\":\"mesh3d\",\"colorbar\":{\"outlinewidth\":0,\"ticks\":\"\"}}],\"scatter\":[{\"fillpattern\":{\"fillmode\":\"overlay\",\"size\":10,\"solidity\":0.2},\"type\":\"scatter\"}],\"parcoords\":[{\"type\":\"parcoords\",\"line\":{\"colorbar\":{\"outlinewidth\":0,\"ticks\":\"\"}}}],\"scatterpolargl\":[{\"type\":\"scatterpolargl\",\"marker\":{\"colorbar\":{\"outlinewidth\":0,\"ticks\":\"\"}}}],\"bar\":[{\"error_x\":{\"color\":\"#2a3f5f\"},\"error_y\":{\"color\":\"#2a3f5f\"},\"marker\":{\"line\":{\"color\":\"#E5ECF6\",\"width\":0.5},\"pattern\":{\"fillmode\":\"overlay\",\"size\":10,\"solidity\":0.2}},\"type\":\"bar\"}],\"scattergeo\":[{\"type\":\"scattergeo\",\"marker\":{\"colorbar\":{\"outlinewidth\":0,\"ticks\":\"\"}}}],\"scatterpolar\":[{\"type\":\"scatterpolar\",\"marker\":{\"colorbar\":{\"outlinewidth\":0,\"ticks\":\"\"}}}],\"histogram\":[{\"marker\":{\"pattern\":{\"fillmode\":\"overlay\",\"size\":10,\"solidity\":0.2}},\"type\":\"histogram\"}],\"scattergl\":[{\"type\":\"scattergl\",\"marker\":{\"colorbar\":{\"outlinewidth\":0,\"ticks\":\"\"}}}],\"scatter3d\":[{\"type\":\"scatter3d\",\"line\":{\"colorbar\":{\"outlinewidth\":0,\"ticks\":\"\"}},\"marker\":{\"colorbar\":{\"outlinewidth\":0,\"ticks\":\"\"}}}],\"scattermapbox\":[{\"type\":\"scattermapbox\",\"marker\":{\"colorbar\":{\"outlinewidth\":0,\"ticks\":\"\"}}}],\"scatterternary\":[{\"type\":\"scatterternary\",\"marker\":{\"colorbar\":{\"outlinewidth\":0,\"ticks\":\"\"}}}],\"scattercarpet\":[{\"type\":\"scattercarpet\",\"marker\":{\"colorbar\":{\"outlinewidth\":0,\"ticks\":\"\"}}}],\"carpet\":[{\"aaxis\":{\"endlinecolor\":\"#2a3f5f\",\"gridcolor\":\"white\",\"linecolor\":\"white\",\"minorgridcolor\":\"white\",\"startlinecolor\":\"#2a3f5f\"},\"baxis\":{\"endlinecolor\":\"#2a3f5f\",\"gridcolor\":\"white\",\"linecolor\":\"white\",\"minorgridcolor\":\"white\",\"startlinecolor\":\"#2a3f5f\"},\"type\":\"carpet\"}],\"table\":[{\"cells\":{\"fill\":{\"color\":\"#EBF0F8\"},\"line\":{\"color\":\"white\"}},\"header\":{\"fill\":{\"color\":\"#C8D4E3\"},\"line\":{\"color\":\"white\"}},\"type\":\"table\"}],\"barpolar\":[{\"marker\":{\"line\":{\"color\":\"#E5ECF6\",\"width\":0.5},\"pattern\":{\"fillmode\":\"overlay\",\"size\":10,\"solidity\":0.2}},\"type\":\"barpolar\"}],\"pie\":[{\"automargin\":true,\"type\":\"pie\"}]},\"layout\":{\"autotypenumbers\":\"strict\",\"colorway\":[\"#636efa\",\"#EF553B\",\"#00cc96\",\"#ab63fa\",\"#FFA15A\",\"#19d3f3\",\"#FF6692\",\"#B6E880\",\"#FF97FF\",\"#FECB52\"],\"font\":{\"color\":\"#2a3f5f\"},\"hovermode\":\"closest\",\"hoverlabel\":{\"align\":\"left\"},\"paper_bgcolor\":\"white\",\"plot_bgcolor\":\"#E5ECF6\",\"polar\":{\"bgcolor\":\"#E5ECF6\",\"angularaxis\":{\"gridcolor\":\"white\",\"linecolor\":\"white\",\"ticks\":\"\"},\"radialaxis\":{\"gridcolor\":\"white\",\"linecolor\":\"white\",\"ticks\":\"\"}},\"ternary\":{\"bgcolor\":\"#E5ECF6\",\"aaxis\":{\"gridcolor\":\"white\",\"linecolor\":\"white\",\"ticks\":\"\"},\"baxis\":{\"gridcolor\":\"white\",\"linecolor\":\"white\",\"ticks\":\"\"},\"caxis\":{\"gridcolor\":\"white\",\"linecolor\":\"white\",\"ticks\":\"\"}},\"coloraxis\":{\"colorbar\":{\"outlinewidth\":0,\"ticks\":\"\"}},\"colorscale\":{\"sequential\":[[0.0,\"#0d0887\"],[0.1111111111111111,\"#46039f\"],[0.2222222222222222,\"#7201a8\"],[0.3333333333333333,\"#9c179e\"],[0.4444444444444444,\"#bd3786\"],[0.5555555555555556,\"#d8576b\"],[0.6666666666666666,\"#ed7953\"],[0.7777777777777778,\"#fb9f3a\"],[0.8888888888888888,\"#fdca26\"],[1.0,\"#f0f921\"]],\"sequentialminus\":[[0.0,\"#0d0887\"],[0.1111111111111111,\"#46039f\"],[0.2222222222222222,\"#7201a8\"],[0.3333333333333333,\"#9c179e\"],[0.4444444444444444,\"#bd3786\"],[0.5555555555555556,\"#d8576b\"],[0.6666666666666666,\"#ed7953\"],[0.7777777777777778,\"#fb9f3a\"],[0.8888888888888888,\"#fdca26\"],[1.0,\"#f0f921\"]],\"diverging\":[[0,\"#8e0152\"],[0.1,\"#c51b7d\"],[0.2,\"#de77ae\"],[0.3,\"#f1b6da\"],[0.4,\"#fde0ef\"],[0.5,\"#f7f7f7\"],[0.6,\"#e6f5d0\"],[0.7,\"#b8e186\"],[0.8,\"#7fbc41\"],[0.9,\"#4d9221\"],[1,\"#276419\"]]},\"xaxis\":{\"gridcolor\":\"white\",\"linecolor\":\"white\",\"ticks\":\"\",\"title\":{\"standoff\":15},\"zerolinecolor\":\"white\",\"automargin\":true,\"zerolinewidth\":2},\"yaxis\":{\"gridcolor\":\"white\",\"linecolor\":\"white\",\"ticks\":\"\",\"title\":{\"standoff\":15},\"zerolinecolor\":\"white\",\"automargin\":true,\"zerolinewidth\":2},\"scene\":{\"xaxis\":{\"backgroundcolor\":\"#E5ECF6\",\"gridcolor\":\"white\",\"linecolor\":\"white\",\"showbackground\":true,\"ticks\":\"\",\"zerolinecolor\":\"white\",\"gridwidth\":2},\"yaxis\":{\"backgroundcolor\":\"#E5ECF6\",\"gridcolor\":\"white\",\"linecolor\":\"white\",\"showbackground\":true,\"ticks\":\"\",\"zerolinecolor\":\"white\",\"gridwidth\":2},\"zaxis\":{\"backgroundcolor\":\"#E5ECF6\",\"gridcolor\":\"white\",\"linecolor\":\"white\",\"showbackground\":true,\"ticks\":\"\",\"zerolinecolor\":\"white\",\"gridwidth\":2}},\"shapedefaults\":{\"line\":{\"color\":\"#2a3f5f\"}},\"annotationdefaults\":{\"arrowcolor\":\"#2a3f5f\",\"arrowhead\":0,\"arrowwidth\":1},\"geo\":{\"bgcolor\":\"white\",\"landcolor\":\"#E5ECF6\",\"subunitcolor\":\"white\",\"showland\":true,\"showlakes\":true,\"lakecolor\":\"white\"},\"title\":{\"x\":0.05},\"mapbox\":{\"style\":\"light\"}}}},                        {\"responsive\": true}                    ).then(function(){\n",
              "                            \n",
              "var gd = document.getElementById('5c2cbc56-da62-43dc-82f3-8ccd5d09a49f');\n",
              "var x = new MutationObserver(function (mutations, observer) {{\n",
              "        var display = window.getComputedStyle(gd).display;\n",
              "        if (!display || display === 'none') {{\n",
              "            console.log([gd, 'removed!']);\n",
              "            Plotly.purge(gd);\n",
              "            observer.disconnect();\n",
              "        }}\n",
              "}});\n",
              "\n",
              "// Listen for the removal of the full notebook cells\n",
              "var notebookContainer = gd.closest('#notebook-container');\n",
              "if (notebookContainer) {{\n",
              "    x.observe(notebookContainer, {childList: true});\n",
              "}}\n",
              "\n",
              "// Listen for the clearing of the current output cell\n",
              "var outputEl = gd.closest('.output');\n",
              "if (outputEl) {{\n",
              "    x.observe(outputEl, {childList: true});\n",
              "}}\n",
              "\n",
              "                        })                };                            </script>        </div>\n",
              "</body>\n",
              "</html>"
            ]
          },
          "metadata": {}
        }
      ]
    },
    {
      "cell_type": "code",
      "source": [
        "y_true = 100 + 20 * np.random.randn(1000)\n",
        "y_pred = y_true + 10 * np.random.randn(1000)\n",
        "results = pd.DataFrame({'y_true': y_true, 'y_pred': y_pred})\n",
        "results['error'] = results['y_true'] - results['y_pred']\n",
        "\n",
        "px.histogram(results, x='error', nbins=50, width=800, height=500, title='Error distribution')"
      ],
      "metadata": {
        "colab": {
          "base_uri": "https://localhost:8080/",
          "height": 517
        },
        "id": "7WjwH0KKLScW",
        "outputId": "aab96086-d22d-4b4d-c790-646223988f9f"
      },
      "execution_count": 14,
      "outputs": [
        {
          "output_type": "display_data",
          "data": {
            "text/html": [
              "<html>\n",
              "<head><meta charset=\"utf-8\" /></head>\n",
              "<body>\n",
              "    <div>            <script src=\"https://cdnjs.cloudflare.com/ajax/libs/mathjax/2.7.5/MathJax.js?config=TeX-AMS-MML_SVG\"></script><script type=\"text/javascript\">if (window.MathJax && window.MathJax.Hub && window.MathJax.Hub.Config) {window.MathJax.Hub.Config({SVG: {font: \"STIX-Web\"}});}</script>                <script type=\"text/javascript\">window.PlotlyConfig = {MathJaxConfig: 'local'};</script>\n",
              "        <script charset=\"utf-8\" src=\"https://cdn.plot.ly/plotly-2.35.2.min.js\"></script>                <div id=\"ae14f027-4849-48d7-bb49-138b41c6e2d7\" class=\"plotly-graph-div\" style=\"height:500px; width:800px;\"></div>            <script type=\"text/javascript\">                                    window.PLOTLYENV=window.PLOTLYENV || {};                                    if (document.getElementById(\"ae14f027-4849-48d7-bb49-138b41c6e2d7\")) {                    Plotly.newPlot(                        \"ae14f027-4849-48d7-bb49-138b41c6e2d7\",                        [{\"alignmentgroup\":\"True\",\"bingroup\":\"x\",\"hovertemplate\":\"error=%{x}\\u003cbr\\u003ecount=%{y}\\u003cextra\\u003e\\u003c\\u002fextra\\u003e\",\"legendgroup\":\"\",\"marker\":{\"color\":\"#636efa\",\"pattern\":{\"shape\":\"\"}},\"name\":\"\",\"nbinsx\":50,\"offsetgroup\":\"\",\"orientation\":\"v\",\"showlegend\":false,\"x\":[-9.458771873213138,4.6093728132921825,18.07544994679813,-11.941858992089905,4.762712861576944,-3.1554206128787143,19.265216542853125,-8.381881094918583,11.001650580890484,-1.8994390816978637,1.570582663801602,7.965802189192374,-0.7679189367190133,21.842912630910426,0.17535740752590812,4.804055083463325,-7.4114366928835125,12.477340844185832,4.831400636972603,0.06725376735263922,-8.632278832795663,6.337860819881286,9.601135634088607,-12.14593125747868,-9.319311764570145,12.453874224305977,0.24643691065546136,20.042403221808115,-23.88000537049237,1.0509000728387292,-2.1215122227487058,5.026214895538914,0.4614854374547548,-2.555456837878239,-6.943713070503549,6.342483221259016,27.53596798025363,-2.162539311255273,-6.7189251801414684,2.434252312483139,7.690485673882748,-1.8268776620991503,15.518155076731368,1.4844584608083267,13.492277390633173,6.307547370336621,-4.948142890514617,-2.657411069905322,-9.942856813264825,-12.310818898870522,2.3413765993457787,1.010008228687994,0.7511134859949635,-3.184476784006975,10.423906368740546,2.2666860316254827,-8.480663851110165,-4.022515877281521,-14.809091231249795,8.065539990121536,-25.29564675270194,-15.746403678008008,-6.785909455798759,11.871587162908824,2.529761850615884,6.763950565380213,7.7034242122598755,-4.710640708437367,-10.411896482224222,0.44936493957763446,14.656916787045532,16.744564230720414,4.453215868633002,12.922888557631197,-1.7758113682758108,-4.80155347323452,-13.051481128823951,-4.963760796962347,-17.593846327032225,4.318446862162034,14.247575141184399,-16.89297892103994,9.181740543155563,6.319732679026416,-3.5805878266573927,16.253126646366155,-13.437209594736117,-6.720460702844747,17.89989306404017,-3.1069904794969005,-10.948673317088023,-9.63651713143274,5.282015673345754,-3.1308666315860734,-5.827012839346665,-12.519444570919461,-5.742227208780193,13.988427626652523,0.3226712632374529,14.946393392694475,3.639816491307002,-8.66069085153994,-20.753485988428366,7.9179602738568065,15.496821359954453,-11.723665960037579,7.890598025030357,-5.811469684451993,19.58276990321731,-2.8214768727407744,-21.036385988819816,2.5973847700126242,-6.564805112818135,12.703553967330052,-0.9636918280038884,14.910339304325504,-8.107130625441343,-13.587122910808432,-2.8892033703500175,-7.4303025137580505,0.01565615823004407,-3.777312825706389,-0.5336815820783869,-0.600166055115892,-11.547798307779289,-9.503963864749124,-13.008673734675497,4.148786348534088,-7.350894441274704,9.599756328477568,2.139381899135344,2.7651072074945517,19.636898114414393,-14.566787524156439,-2.9433490716459687,-14.658879819833032,-15.205751465789945,2.036957688521767,9.023398749886667,-5.540018315437891,-12.268917447023455,13.300660105541183,11.146496896470126,-11.585238590852711,1.0692457408312919,9.163646625273316,-13.512809226462792,10.974770509622871,-12.666700285285572,-26.747992145936877,-16.000427890752988,-11.80133980604866,7.143505345386714,-9.066747775028205,5.168992605365133,1.6348119141810145,1.6649020978824751,-21.402912051648073,-3.466585400316177,0.9684085857937532,0.7307120761189907,10.758268288539512,-0.49389252382388804,-2.7686776624256737,-0.4170106572183556,-5.176983837493211,3.0894693323455016,-1.704513299361615,11.856441465267963,-4.000659264124323,-12.361131141444389,14.185427972382385,-2.872651588804203,4.895213335786224,-24.47299025374754,9.02082343860684,-6.17012264377027,-1.482683616889247,-3.3372996812714035,-1.5125348651003634,5.722277886938016,1.5035474565450642,10.66059959999103,-4.851380759581687,2.9618030937420485,-18.622546048555137,10.320893876313136,-2.796574818132356,6.608656419776068,-0.9715638990830939,-6.421104645712475,5.072899234812141,3.945262373683306,-7.696352271379894,13.801072269413908,3.7631979036544294,-7.103653098562191,0.5794877113466725,16.235565525320823,-24.32275760548086,12.063587953526977,5.913297275260959,-6.668100289382764,8.04692273725884,12.663063115564754,7.460370624292025,9.203460512559175,-10.905599311546425,7.680165178618502,-13.5018065231002,9.91745757058672,4.163397736326232,-0.5492613871633267,-7.386587356166643,7.588175752071706,-14.170463569571837,6.000083380714699,-20.26437249235326,6.016892492165667,15.185044181139801,-4.320779979539537,-7.580205096761176,-4.681327370756222,-11.668013751496034,-7.424214282243057,3.161759635595999,-0.8975230975011215,13.83371012782139,4.679393266298604,7.136684704013433,4.6660206855715245,6.524603349497795,-11.658479595301458,-2.35031635059795,2.918191326186232,19.35727690028287,10.82509849376983,-2.349189022828483,-9.110230577886753,-4.030825985968221,3.88081248884518,3.7156096087210813,5.104363659698649,-21.083071365715966,5.930404580154601,9.31137346224942,-8.185545262944842,1.8138792330404812,-29.81368884176868,11.176704046171352,-4.359572330924209,-8.941770605094888,13.83901104570461,10.01057125370778,6.52903917240468,6.0390157650296885,-7.057959505774036,3.6891397896549094,-3.2052892599162277,-4.612893393100137,-6.455417608158541,-8.579776107505808,8.564077214623694,5.462632658886648,0.9713658592287118,-18.81164850440463,-16.033218489103675,-12.345084042827267,-2.210700716208393,6.631575270000255,-6.211110097756787,11.203160154990869,11.108480222435716,8.551642199714308,-1.3028134288138347,-12.867195582286158,-1.6540420024372224,8.157720687848055,20.584847082339998,-12.389979901371731,-0.473530464319424,-9.98170036446787,0.45463525353908096,11.78275791695583,6.787027680693441,10.61360992312045,-12.494230518148314,21.556654413746244,1.9353343408395887,-0.9895860412636068,5.52961428669343,-10.72473547381361,0.42776732591256916,4.688511669773803,-3.2258620098859154,-1.2842991480263493,16.31501919692208,-11.020665769799535,-6.688586149692512,-15.775971588060074,5.7379181666211,3.5996448875447413,6.122833993047607,-6.159528757982528,1.3973429358074014,4.342915038088236,-2.9985539199605,-8.412436590471955,3.19465475005876,-5.083018196485796,-1.6919375836900485,1.7378218226654099,-2.151614486530164,-1.80660755916837,2.2666584960422824,-8.318038978506877,-0.5384658501484552,8.081356232826451,8.994486626192113,12.84748805139563,0.8062780224217789,5.033516989808646,11.204560336795808,-14.213381690898302,14.459258416010826,-0.9480516941725909,-7.116371724150213,-20.200250475243564,2.889903472851742,6.144282679793335,5.156007474982786,-2.4020699239873124,22.66892292672152,0.3842173258983905,-8.399763666095566,-1.1117007749936647,-8.456133957446099,-3.3199911892708514,-7.032324460425755,2.344466344858887,20.48400803281058,1.8982817745344818,-13.925913233340722,13.293742946408486,2.2340616158306403,-20.931609913093197,-8.048507943063498,17.950095930856463,21.36506998580232,-15.381322014286297,9.986018561954438,16.915011389054953,-3.3391122119930685,10.96903116180927,-0.38752551686212655,-4.210726804742777,13.004831769154336,13.779234711962005,-9.257010345522986,-17.316830877063893,-7.892953525559747,2.0155555504674396,-21.10698031441605,-0.8713543665551811,-6.268652872327635,-1.824596757176181,0.17591310636930757,-13.623524830530997,12.794846627760435,0.17895584911184415,16.07198269314931,-14.579400427522955,-7.035659557431643,-4.381534525721378,4.58447077486791,-1.0619264082635311,-6.0647117221739535,8.397383949936014,-7.6529096288232665,-3.7385088918953215,-31.61835764342129,4.900880296297686,7.4263522594796285,-18.74350651751996,13.960342776027886,15.478272248354614,1.0313992526058655,-8.26514953717556,12.608902789578067,1.6092409269560477,0.15860662336784515,16.95010682432462,1.4280701030462524,3.3084596615601924,-6.153212565433236,4.581735974801788,-15.967872155374025,0.41347449002233816,17.50402130752201,-17.681930337943427,12.512668203354707,-18.670000279769326,-10.865743024437947,-1.8486054208628957,-1.0248548963105009,0.6276176263927908,-0.5967596501125314,10.957344450379267,-0.1998011071085557,-13.124839235872287,-6.8873966713354235,-2.691950836802988,-5.467601282392053,22.75700097299476,-19.563289991580135,-0.8171917457380857,-11.485876508702091,-15.238327975742877,-4.164814001716977,9.41775720446887,-9.919753199112591,-24.239002293581407,-4.378717749618971,-7.57128819690017,3.5991011755163242,10.339617783866203,-11.41409227114751,6.927305930037775,10.831299484678425,-5.290597071077443,-5.938321551155781,5.511208434638192,1.450961044498115,16.76273832054612,-2.1417736521089807,7.368962842633962,1.7641171356709435,-8.275968252047846,5.527820752144962,8.99213469330131,2.6179534900390706,2.983884437098496,-8.239538190707734,-6.649699364051855,-21.40213904773597,-3.2698571676753545,10.639401298083186,2.91359264390654,-8.591214653413175,-5.869659328306227,13.888856044999415,1.8289073690034598,-18.373031299485945,8.954561962123549,1.8539794479799383,31.870601204846878,11.15292919440438,-9.474668270835807,0.49138942666373,-19.806166839811056,-4.600891545173496,-6.712028048054833,-6.689127756008816,2.3153469316512627,6.629037970905372,-5.519415572987242,9.398130820622612,17.10609735659773,-19.755118836196658,-16.113244102253375,3.6431889611220356,-8.790910715747344,18.96037909240492,-4.772849061523161,13.860459861227199,2.4295917887344842,12.712875828435344,3.1181241272820728,1.7115995945007967,-19.58783807566452,-5.554291247808152,6.982299419373675,19.134114960084773,-7.174209558286847,14.839601005492781,14.87054579297913,7.085249660765513,10.894185204955285,-4.846260767293629,-10.310652855497011,-10.051812777761654,10.0142180077721,-3.606843699749291,4.535260528080116,-7.311450888130963,-6.387896714135351,-20.882968643765636,-8.873961357016505,-5.241782106122983,-3.961860629622464,-5.403792061008701,-7.078285926799424,-0.33292247326446045,-6.271246974557698,-11.34250218962589,3.229667401996764,3.4922487477517024,-13.002654738677421,-2.621624576437597,3.1083326063162673,-13.612272609002787,1.5947426190383283,-18.487684087526176,-8.056971459096061,-3.364110986566004,-1.9654221884982803,5.353564906256281,-7.367315749867174,-1.595622252213758,1.7541893833416538,3.594018208169146,3.1728253149035197,-0.02797800353596358,14.749774063792913,-15.707684010048169,9.031127405071004,-2.7801767141665437,-3.8753984865619344,-14.30293058295409,-0.21631526617962038,-0.769109134514764,-10.35507778086452,-5.528357743026362,0.3878103521898879,-11.827124487635444,6.904367256049014,-5.278811614501208,-1.3301791929894478,-3.1190788354937524,-5.530531709487626,-6.222146863301575,4.201627128514829,16.631090735122427,-3.1643580448318573,6.7098066234466955,9.793670594647168,-6.3653976090210875,11.532544685740419,4.873795677717467,-6.188719773011599,-5.838215411370271,-1.0540062088986986,19.974648655503927,8.15882831752269,1.6570967766724607,-1.7092067285441175,-2.096654620994258,2.6020330226534156,-6.395641647080097,-1.251403195767864,11.942978111605441,6.577160602191796,-4.775362624493397,1.204696092746559,-9.511640629449218,10.064599539652676,-4.04178842244329,-8.600668223903725,24.424069271239006,14.262158308555911,-3.0345247642589612,-6.80648364871648,5.223227072160768,-7.675127687638295,11.674806986505047,11.544207496132046,8.869955720860403,15.400792193704987,-9.64881551445771,-18.490401953892516,-2.684991978138271,8.08904469762875,-1.2347280298731675,1.745335471613842,14.494084162380389,-3.1817067633916025,-6.284284991707068,0.9728511424768413,6.394544248458601,-7.138768957618453,9.704432581567886,-4.248457477113789,-2.577940203276029,-17.476427303709386,1.9183029584215916,3.813309302508273,19.65635340611049,-4.63002363306115,5.4563649218633685,-3.528632639494603,10.148821620295934,-3.0185697149760244,4.800250869837058,24.56958889324605,1.361232037399418,-4.77124954875859,20.723522210605147,-6.1342643135247386,12.186587777549164,12.219215407525041,-0.6375336502955236,-3.5683905432042735,-8.770201682123627,-8.745253380842456,-3.5446275523258493,-3.2311500553013417,-9.768800349788236,2.596194977522174,9.865805518749099,-3.876446212733498,-14.526254324251184,-3.3861628266722903,-9.418018250517633,-0.21077696879714836,-21.820199879994803,-0.8131554651960755,-13.25365404039266,0.834660135977245,18.256744666351608,1.4452121979474413,-7.227859581100304,0.20319681394195754,-10.758930124051716,21.55481730608649,-12.375678933115736,6.4521294184872175,-8.890073665583373,-9.778380520751796,-6.673855385737937,-3.77501752471386,3.595852417659927,6.749622693411311,-11.662287046332736,-16.271050953266183,0.1455428962916301,7.614910242267058,-2.6996305677929513,-13.050375030833564,-10.736325959111838,12.736651664975568,3.3314150062065977,-7.8160701167449815,-16.861202350207122,-8.048170892931893,2.2631928469981233,-12.232267614628668,-0.5275831754223077,7.198120435982929,2.201702849094815,4.131844428869485,7.846686858351987,-8.223133395076928,-9.50892124685872,1.5780549726839297,17.8621601235147,7.244853589056184,-0.9838295666712042,-13.879900866066464,-0.5671172127191539,10.39754183349882,7.522035427215229,1.4746331000748683,9.480883003174142,8.938403344124865,-9.477034251310158,11.051074341083961,-12.163223877636824,0.6281966322369925,11.983687371924283,-10.580703675246056,-6.449941038048465,13.062619371396565,-9.379353470184,-8.22801106170023,-0.7085617227950536,2.2550726837275334,12.665130511709535,-0.5747785357391564,1.7213680003855956,-9.805015298271385,14.197919640424104,-11.820417537920207,-11.64993954347996,2.3090935615185657,6.503933981306176,-5.94801248438948,6.288580208148545,-9.855837656447918,0.3140343072239915,-2.2062540033556814,-7.8645172996531585,5.914498421570698,-0.2226551149807392,-4.6502526459791795,17.122791057732414,-11.969370841423228,2.5242179972792513,11.162886481748103,-11.807506956819097,21.195883865843008,-6.274489559495194,16.39806214381362,-25.285144781814324,-1.8237333541778469,9.274011478424882,4.7079505048736365,13.164393726789285,5.30069073855573,-5.9244734218387975,1.5812378977170596,-23.880862081784954,-7.3960600978941216,5.913893013917274,-3.8380447269705087,1.9964522727407825,-12.533377560324624,2.1082485523555903,-12.306114708732764,12.999547896320934,-0.5431057516309181,6.087102475228576,-0.6052894958911423,-0.18091726956753007,0.10040655134565668,-10.231597887167254,-4.765064002208362,2.0835710858039107,-6.671243745444045,9.38912717805124,12.781958643001857,-4.466173041367156,1.0171292972279105,-7.701512771846112,-32.1725609742564,5.744347813188099,-6.927100765534803,-5.432164764634621,2.5163553330580015,3.3540869897774286,-8.654894508178842,4.6909925944733,-10.147982506028363,7.785557591157186,5.516724254680838,6.9140887818338115,6.628716731905342,6.915042438973401,-23.587797689566926,4.022565525239422,17.131823928374473,11.052178945645224,5.626306752686531,12.146869583173853,1.2643117874167586,4.440966258013532,3.0939098011771335,-14.096963936264615,4.974376188704625,6.150903627033173,-12.637192154608499,-17.215683023893675,3.5691723946485467,-15.896034150868104,7.817149336962515,-9.350967589710763,3.7225690025116194,-8.154675301672427,1.197012505051262,-7.734876574274779,-11.240747177494484,6.503307127931194,23.38719317749613,5.639723099214692,10.424607423471997,-18.283873235575427,3.488793179964105,14.619107178171348,13.964134066544148,-0.4358637176917455,9.11953697213103,14.61820733399081,11.854823339347462,7.0072097064336845,-13.340462781591953,11.126316267013124,3.3195194244742936,7.194149705185197,-2.3557318440262662,-9.676043156252973,3.5972399390283414,-8.187230798906882,4.0842337284774,-1.8399543667815408,1.392841764593328,-14.49307317535704,4.476019937038757,2.48184572951574,-1.4381261456392735,-5.0293154558602,14.256947723473175,10.2226422529845,-9.236711551204891,9.186514583065701,2.016552313891964,4.014985855129559,-6.889498950360675,-12.140155734262223,-2.405472700729092,-13.4968756102745,1.9514538192521087,1.16762069749403,-5.866259869134751,10.34415963173943,-3.3843025487917515,7.491896241357125,-1.2243107603057553,-2.140275496994633,-17.754461722812692,-6.513985736994044,5.860937774991811,-2.043360002112678,-17.115429243750455,10.279631871766028,5.075346398240811,3.8145980504759507,4.474250937444182,0.6921646497718399,1.0444451560602204,0.36162080404534436,-2.496580584389548,-12.585361157629023,4.552727175094219,-1.8303482407618787,5.244720638917457,-9.59309352502953,15.447129641072635,12.04255080658018,-23.241416498101998,-0.4406695094288011,11.939928727373825,-3.3691280247036417,-4.9849646036337205,-3.1309357885738507,-12.508939614402038,12.72237890953501,-4.67633963181531,-3.481626328470597,-2.3448781122355484,3.7906027579740993,-18.09682098216919,26.25628584012695,-11.302283012744695,8.530783708440055,7.526928668602352,-4.632823016090114,-11.193707563019515,-20.395373721695137,18.712279570327865,-1.1587335342082525,-1.8416272951289159,2.81973249307012,6.376225111226802,9.580376039005628,2.814986068452299,1.406374419665326,2.426664443116721,-14.92168112061455,0.7695203853367758,-13.318218313818278,-14.144934895295137,-0.7444541998434957,5.957339206893764,12.889755316812497,-7.63160937154997,12.839988124241003,-7.5508574912661,-2.41259016419572,-16.176195260333316,-7.3884640063014615,7.058118210416836,-6.705039086146826,13.001959713361884,-13.195454344517941,-2.456964434338772,19.65157819259546,11.424244428518861,-7.509905462239075,4.496121114138347,11.280764667724355,4.729083210321434,8.934557088140522,-17.70980546482511,-14.274467989741439,-6.697906619941307,-5.516090043552708,-15.541128450922358,10.500450885300637,-16.597806684241164,2.949487144718546,21.913277025949085,6.056552317890322,5.756290829310927,-12.41594563219428,-19.25527802130064,1.5217625589872767,-7.092643377737545,-3.1410831842416655,16.84605421599673,9.072338893251953,4.363655767120321,1.0724370696135423,14.369807774021467,-16.28887593726705,20.298983034217883,-9.669642687183511,9.258801538913545,10.577390511075905,2.6856663248677393,9.258952666608494,5.558821724112235,-9.015875449544154,-0.48722448944458563,-4.561840586156322,5.157093539081387,12.13950251109297,12.702638810908695,-5.49833071130557,-19.542801741994026,11.647054288374065,7.388137241851041,-5.87779207871651,-17.02355903951951,-1.266023777858436,8.525272578396795,0.12665994046001572,10.59801589431899,0.6224331883955045,17.34623438300865,-3.4852479184640686,10.343744483291005,6.039945055130062,10.192455158227517,0.27640546927808884,0.7713845784083162,-4.61385523762371,-2.433214152072935,-19.928043037057307,-9.067557578298775,1.1816478829710775,3.237369381032835,9.229741349260479,5.684036486355261,14.354521261832133,-1.4238184697160534,-0.7043565585997698,-0.13847659702864235,-2.4498340152063776,13.673049220041364,-4.225040070733513,-14.329215009559832,-6.9049075827678195,4.56472039286777,3.8019080872077353,8.74446487595958,-1.3149449994160989,2.266191772429579,-5.4988687101060805,-4.86251641689357,12.429455921875473,27.190658005888935,3.523850644150315,-8.621776730800875,-1.8612896260719083,-0.20366101863666586,4.595579925890661,4.650148992081583,3.140068723958322,-1.611363479329711,-3.255833183321542,12.638325352007115,2.915988428646898,-9.252931132085735,0.8198515397446755,6.144738774479521,-9.83338800588038,-12.468243669591303,1.162938421845638,10.966021044239952,-4.146927262248525,-8.334331302061742],\"xaxis\":\"x\",\"yaxis\":\"y\",\"type\":\"histogram\"}],                        {\"template\":{\"data\":{\"histogram2dcontour\":[{\"type\":\"histogram2dcontour\",\"colorbar\":{\"outlinewidth\":0,\"ticks\":\"\"},\"colorscale\":[[0.0,\"#0d0887\"],[0.1111111111111111,\"#46039f\"],[0.2222222222222222,\"#7201a8\"],[0.3333333333333333,\"#9c179e\"],[0.4444444444444444,\"#bd3786\"],[0.5555555555555556,\"#d8576b\"],[0.6666666666666666,\"#ed7953\"],[0.7777777777777778,\"#fb9f3a\"],[0.8888888888888888,\"#fdca26\"],[1.0,\"#f0f921\"]]}],\"choropleth\":[{\"type\":\"choropleth\",\"colorbar\":{\"outlinewidth\":0,\"ticks\":\"\"}}],\"histogram2d\":[{\"type\":\"histogram2d\",\"colorbar\":{\"outlinewidth\":0,\"ticks\":\"\"},\"colorscale\":[[0.0,\"#0d0887\"],[0.1111111111111111,\"#46039f\"],[0.2222222222222222,\"#7201a8\"],[0.3333333333333333,\"#9c179e\"],[0.4444444444444444,\"#bd3786\"],[0.5555555555555556,\"#d8576b\"],[0.6666666666666666,\"#ed7953\"],[0.7777777777777778,\"#fb9f3a\"],[0.8888888888888888,\"#fdca26\"],[1.0,\"#f0f921\"]]}],\"heatmap\":[{\"type\":\"heatmap\",\"colorbar\":{\"outlinewidth\":0,\"ticks\":\"\"},\"colorscale\":[[0.0,\"#0d0887\"],[0.1111111111111111,\"#46039f\"],[0.2222222222222222,\"#7201a8\"],[0.3333333333333333,\"#9c179e\"],[0.4444444444444444,\"#bd3786\"],[0.5555555555555556,\"#d8576b\"],[0.6666666666666666,\"#ed7953\"],[0.7777777777777778,\"#fb9f3a\"],[0.8888888888888888,\"#fdca26\"],[1.0,\"#f0f921\"]]}],\"heatmapgl\":[{\"type\":\"heatmapgl\",\"colorbar\":{\"outlinewidth\":0,\"ticks\":\"\"},\"colorscale\":[[0.0,\"#0d0887\"],[0.1111111111111111,\"#46039f\"],[0.2222222222222222,\"#7201a8\"],[0.3333333333333333,\"#9c179e\"],[0.4444444444444444,\"#bd3786\"],[0.5555555555555556,\"#d8576b\"],[0.6666666666666666,\"#ed7953\"],[0.7777777777777778,\"#fb9f3a\"],[0.8888888888888888,\"#fdca26\"],[1.0,\"#f0f921\"]]}],\"contourcarpet\":[{\"type\":\"contourcarpet\",\"colorbar\":{\"outlinewidth\":0,\"ticks\":\"\"}}],\"contour\":[{\"type\":\"contour\",\"colorbar\":{\"outlinewidth\":0,\"ticks\":\"\"},\"colorscale\":[[0.0,\"#0d0887\"],[0.1111111111111111,\"#46039f\"],[0.2222222222222222,\"#7201a8\"],[0.3333333333333333,\"#9c179e\"],[0.4444444444444444,\"#bd3786\"],[0.5555555555555556,\"#d8576b\"],[0.6666666666666666,\"#ed7953\"],[0.7777777777777778,\"#fb9f3a\"],[0.8888888888888888,\"#fdca26\"],[1.0,\"#f0f921\"]]}],\"surface\":[{\"type\":\"surface\",\"colorbar\":{\"outlinewidth\":0,\"ticks\":\"\"},\"colorscale\":[[0.0,\"#0d0887\"],[0.1111111111111111,\"#46039f\"],[0.2222222222222222,\"#7201a8\"],[0.3333333333333333,\"#9c179e\"],[0.4444444444444444,\"#bd3786\"],[0.5555555555555556,\"#d8576b\"],[0.6666666666666666,\"#ed7953\"],[0.7777777777777778,\"#fb9f3a\"],[0.8888888888888888,\"#fdca26\"],[1.0,\"#f0f921\"]]}],\"mesh3d\":[{\"type\":\"mesh3d\",\"colorbar\":{\"outlinewidth\":0,\"ticks\":\"\"}}],\"scatter\":[{\"fillpattern\":{\"fillmode\":\"overlay\",\"size\":10,\"solidity\":0.2},\"type\":\"scatter\"}],\"parcoords\":[{\"type\":\"parcoords\",\"line\":{\"colorbar\":{\"outlinewidth\":0,\"ticks\":\"\"}}}],\"scatterpolargl\":[{\"type\":\"scatterpolargl\",\"marker\":{\"colorbar\":{\"outlinewidth\":0,\"ticks\":\"\"}}}],\"bar\":[{\"error_x\":{\"color\":\"#2a3f5f\"},\"error_y\":{\"color\":\"#2a3f5f\"},\"marker\":{\"line\":{\"color\":\"#E5ECF6\",\"width\":0.5},\"pattern\":{\"fillmode\":\"overlay\",\"size\":10,\"solidity\":0.2}},\"type\":\"bar\"}],\"scattergeo\":[{\"type\":\"scattergeo\",\"marker\":{\"colorbar\":{\"outlinewidth\":0,\"ticks\":\"\"}}}],\"scatterpolar\":[{\"type\":\"scatterpolar\",\"marker\":{\"colorbar\":{\"outlinewidth\":0,\"ticks\":\"\"}}}],\"histogram\":[{\"marker\":{\"pattern\":{\"fillmode\":\"overlay\",\"size\":10,\"solidity\":0.2}},\"type\":\"histogram\"}],\"scattergl\":[{\"type\":\"scattergl\",\"marker\":{\"colorbar\":{\"outlinewidth\":0,\"ticks\":\"\"}}}],\"scatter3d\":[{\"type\":\"scatter3d\",\"line\":{\"colorbar\":{\"outlinewidth\":0,\"ticks\":\"\"}},\"marker\":{\"colorbar\":{\"outlinewidth\":0,\"ticks\":\"\"}}}],\"scattermapbox\":[{\"type\":\"scattermapbox\",\"marker\":{\"colorbar\":{\"outlinewidth\":0,\"ticks\":\"\"}}}],\"scatterternary\":[{\"type\":\"scatterternary\",\"marker\":{\"colorbar\":{\"outlinewidth\":0,\"ticks\":\"\"}}}],\"scattercarpet\":[{\"type\":\"scattercarpet\",\"marker\":{\"colorbar\":{\"outlinewidth\":0,\"ticks\":\"\"}}}],\"carpet\":[{\"aaxis\":{\"endlinecolor\":\"#2a3f5f\",\"gridcolor\":\"white\",\"linecolor\":\"white\",\"minorgridcolor\":\"white\",\"startlinecolor\":\"#2a3f5f\"},\"baxis\":{\"endlinecolor\":\"#2a3f5f\",\"gridcolor\":\"white\",\"linecolor\":\"white\",\"minorgridcolor\":\"white\",\"startlinecolor\":\"#2a3f5f\"},\"type\":\"carpet\"}],\"table\":[{\"cells\":{\"fill\":{\"color\":\"#EBF0F8\"},\"line\":{\"color\":\"white\"}},\"header\":{\"fill\":{\"color\":\"#C8D4E3\"},\"line\":{\"color\":\"white\"}},\"type\":\"table\"}],\"barpolar\":[{\"marker\":{\"line\":{\"color\":\"#E5ECF6\",\"width\":0.5},\"pattern\":{\"fillmode\":\"overlay\",\"size\":10,\"solidity\":0.2}},\"type\":\"barpolar\"}],\"pie\":[{\"automargin\":true,\"type\":\"pie\"}]},\"layout\":{\"autotypenumbers\":\"strict\",\"colorway\":[\"#636efa\",\"#EF553B\",\"#00cc96\",\"#ab63fa\",\"#FFA15A\",\"#19d3f3\",\"#FF6692\",\"#B6E880\",\"#FF97FF\",\"#FECB52\"],\"font\":{\"color\":\"#2a3f5f\"},\"hovermode\":\"closest\",\"hoverlabel\":{\"align\":\"left\"},\"paper_bgcolor\":\"white\",\"plot_bgcolor\":\"#E5ECF6\",\"polar\":{\"bgcolor\":\"#E5ECF6\",\"angularaxis\":{\"gridcolor\":\"white\",\"linecolor\":\"white\",\"ticks\":\"\"},\"radialaxis\":{\"gridcolor\":\"white\",\"linecolor\":\"white\",\"ticks\":\"\"}},\"ternary\":{\"bgcolor\":\"#E5ECF6\",\"aaxis\":{\"gridcolor\":\"white\",\"linecolor\":\"white\",\"ticks\":\"\"},\"baxis\":{\"gridcolor\":\"white\",\"linecolor\":\"white\",\"ticks\":\"\"},\"caxis\":{\"gridcolor\":\"white\",\"linecolor\":\"white\",\"ticks\":\"\"}},\"coloraxis\":{\"colorbar\":{\"outlinewidth\":0,\"ticks\":\"\"}},\"colorscale\":{\"sequential\":[[0.0,\"#0d0887\"],[0.1111111111111111,\"#46039f\"],[0.2222222222222222,\"#7201a8\"],[0.3333333333333333,\"#9c179e\"],[0.4444444444444444,\"#bd3786\"],[0.5555555555555556,\"#d8576b\"],[0.6666666666666666,\"#ed7953\"],[0.7777777777777778,\"#fb9f3a\"],[0.8888888888888888,\"#fdca26\"],[1.0,\"#f0f921\"]],\"sequentialminus\":[[0.0,\"#0d0887\"],[0.1111111111111111,\"#46039f\"],[0.2222222222222222,\"#7201a8\"],[0.3333333333333333,\"#9c179e\"],[0.4444444444444444,\"#bd3786\"],[0.5555555555555556,\"#d8576b\"],[0.6666666666666666,\"#ed7953\"],[0.7777777777777778,\"#fb9f3a\"],[0.8888888888888888,\"#fdca26\"],[1.0,\"#f0f921\"]],\"diverging\":[[0,\"#8e0152\"],[0.1,\"#c51b7d\"],[0.2,\"#de77ae\"],[0.3,\"#f1b6da\"],[0.4,\"#fde0ef\"],[0.5,\"#f7f7f7\"],[0.6,\"#e6f5d0\"],[0.7,\"#b8e186\"],[0.8,\"#7fbc41\"],[0.9,\"#4d9221\"],[1,\"#276419\"]]},\"xaxis\":{\"gridcolor\":\"white\",\"linecolor\":\"white\",\"ticks\":\"\",\"title\":{\"standoff\":15},\"zerolinecolor\":\"white\",\"automargin\":true,\"zerolinewidth\":2},\"yaxis\":{\"gridcolor\":\"white\",\"linecolor\":\"white\",\"ticks\":\"\",\"title\":{\"standoff\":15},\"zerolinecolor\":\"white\",\"automargin\":true,\"zerolinewidth\":2},\"scene\":{\"xaxis\":{\"backgroundcolor\":\"#E5ECF6\",\"gridcolor\":\"white\",\"linecolor\":\"white\",\"showbackground\":true,\"ticks\":\"\",\"zerolinecolor\":\"white\",\"gridwidth\":2},\"yaxis\":{\"backgroundcolor\":\"#E5ECF6\",\"gridcolor\":\"white\",\"linecolor\":\"white\",\"showbackground\":true,\"ticks\":\"\",\"zerolinecolor\":\"white\",\"gridwidth\":2},\"zaxis\":{\"backgroundcolor\":\"#E5ECF6\",\"gridcolor\":\"white\",\"linecolor\":\"white\",\"showbackground\":true,\"ticks\":\"\",\"zerolinecolor\":\"white\",\"gridwidth\":2}},\"shapedefaults\":{\"line\":{\"color\":\"#2a3f5f\"}},\"annotationdefaults\":{\"arrowcolor\":\"#2a3f5f\",\"arrowhead\":0,\"arrowwidth\":1},\"geo\":{\"bgcolor\":\"white\",\"landcolor\":\"#E5ECF6\",\"subunitcolor\":\"white\",\"showland\":true,\"showlakes\":true,\"lakecolor\":\"white\"},\"title\":{\"x\":0.05},\"mapbox\":{\"style\":\"light\"}}},\"xaxis\":{\"anchor\":\"y\",\"domain\":[0.0,1.0],\"title\":{\"text\":\"error\"}},\"yaxis\":{\"anchor\":\"x\",\"domain\":[0.0,1.0],\"title\":{\"text\":\"count\"}},\"legend\":{\"tracegroupgap\":0},\"title\":{\"text\":\"Error distribution\"},\"barmode\":\"relative\",\"height\":500,\"width\":800},                        {\"responsive\": true}                    ).then(function(){\n",
              "                            \n",
              "var gd = document.getElementById('ae14f027-4849-48d7-bb49-138b41c6e2d7');\n",
              "var x = new MutationObserver(function (mutations, observer) {{\n",
              "        var display = window.getComputedStyle(gd).display;\n",
              "        if (!display || display === 'none') {{\n",
              "            console.log([gd, 'removed!']);\n",
              "            Plotly.purge(gd);\n",
              "            observer.disconnect();\n",
              "        }}\n",
              "}});\n",
              "\n",
              "// Listen for the removal of the full notebook cells\n",
              "var notebookContainer = gd.closest('#notebook-container');\n",
              "if (notebookContainer) {{\n",
              "    x.observe(notebookContainer, {childList: true});\n",
              "}}\n",
              "\n",
              "// Listen for the clearing of the current output cell\n",
              "var outputEl = gd.closest('.output');\n",
              "if (outputEl) {{\n",
              "    x.observe(outputEl, {childList: true});\n",
              "}}\n",
              "\n",
              "                        })                };                            </script>        </div>\n",
              "</body>\n",
              "</html>"
            ]
          },
          "metadata": {}
        }
      ]
    },
    {
      "cell_type": "markdown",
      "source": [
        "Rozkład powinnien być jak najbliżej rozkładu normalnego\n",
        "jeżeli jest więcej po stronie (-) to oznacza że model przeszacowuje wartości\n",
        "\n",
        "jeżeli błąd jest bardziej (+) to oznacza że nasz model częściej niedoszacowuje wartości\n",
        "\n",
        "Najlepiej jest gdy model jest skupiony blisko 0 bo to oznacza, że błędy są dość małe. Oczywiście, ważne jest żeby model nie był zbyt dopasowany do naszych danych, bo to oznacza przeuczenie.\n"
      ],
      "metadata": {
        "id": "MeSoUr8zfTQE"
      }
    },
    {
      "cell_type": "markdown",
      "source": [
        "### <a name='a3'></a> Mean Absolute Error - Średni błąd bezwzględny\n",
        "### $$MAE = \\frac{1}{n}\\sum_{i=1}^{n}|y_{true} - y_{pred}|$$"
      ],
      "metadata": {
        "id": "9EhEjonUgidy"
      }
    },
    {
      "cell_type": "code",
      "source": [
        "def mean_absolute_error(y_true, y_pred):\n",
        "    return abs(y_true - y_pred).sum() / len(y_true) #abs() zwraca wartość bezwzględną\n",
        "\n",
        "mean_absolute_error(y_true, y_pred)"
      ],
      "metadata": {
        "colab": {
          "base_uri": "https://localhost:8080/"
        },
        "id": "UDOuvzVOeag_",
        "outputId": "2491410f-d540-488a-f9e9-ee9279edc191"
      },
      "execution_count": 15,
      "outputs": [
        {
          "output_type": "execute_result",
          "data": {
            "text/plain": [
              "8.013989036607255"
            ]
          },
          "metadata": {},
          "execution_count": 15
        }
      ]
    },
    {
      "cell_type": "markdown",
      "source": [
        "Nie muszę za każdym razem pisać tej funkcji, bo jest ona zaimplementowana w bibliotece sklearn.metrics"
      ],
      "metadata": {
        "id": "V7KCTVf6hVed"
      }
    },
    {
      "cell_type": "code",
      "source": [
        "from sklearn.metrics import mean_absolute_error\n",
        "mean_absolute_error(y_true, y_pred)"
      ],
      "metadata": {
        "colab": {
          "base_uri": "https://localhost:8080/"
        },
        "id": "dfRop5zihNcz",
        "outputId": "3a7eb619-95fa-4893-e458-635e9d03fe06"
      },
      "execution_count": 16,
      "outputs": [
        {
          "output_type": "execute_result",
          "data": {
            "text/plain": [
              "8.013989036607255"
            ]
          },
          "metadata": {},
          "execution_count": 16
        }
      ]
    },
    {
      "cell_type": "markdown",
      "source": [
        "Kolejna metryka to #Błąd Średniokwadratowy\n",
        "\n",
        "### <a name='a4'></a> Mean Squared Error - MSE\n",
        "### $$MSE = \\frac{1}{n}\\sum_{i=1}^{n}(y_{true} - y_{pred})^{2}$$\n",
        "\n",
        "Dzięki podnoszeniu do kwadratu, większe odległości od prawdziwych wyników będą bardziej karane"
      ],
      "metadata": {
        "id": "6ciWFST-hr30"
      }
    },
    {
      "cell_type": "code",
      "source": [
        "def mean_squared_error(y_true, y_pred):\n",
        "    return ((y_true - y_pred) ** 2).sum() / len(y_true)\n",
        "\n",
        "mean_squared_error(y_true, y_pred)"
      ],
      "metadata": {
        "colab": {
          "base_uri": "https://localhost:8080/"
        },
        "id": "h-3bS9H6hlv9",
        "outputId": "69c4ddbc-bdc6-45a3-8464-a4ab47292c29"
      },
      "execution_count": 17,
      "outputs": [
        {
          "output_type": "execute_result",
          "data": {
            "text/plain": [
              "99.91683775698777"
            ]
          },
          "metadata": {},
          "execution_count": 17
        }
      ]
    },
    {
      "cell_type": "code",
      "source": [
        "from sklearn.metrics import mean_squared_error\n",
        "mean_squared_error(y_true, y_pred)"
      ],
      "metadata": {
        "colab": {
          "base_uri": "https://localhost:8080/"
        },
        "id": "rw_YB8dQin0O",
        "outputId": "2a3421bc-57d5-4814-8a38-cf65ad4df779"
      },
      "execution_count": 19,
      "outputs": [
        {
          "output_type": "execute_result",
          "data": {
            "text/plain": [
              "99.91683775698777"
            ]
          },
          "metadata": {},
          "execution_count": 19
        }
      ]
    },
    {
      "cell_type": "markdown",
      "source": [
        "### <a name='a5'></a> Root Mean Squared Error - RMSE - Pierwiastek błędu średniokwadratowego\n",
        "### $$RMSE = \\sqrt{MSE}$$"
      ],
      "metadata": {
        "id": "G21mOpzEjD3p"
      }
    },
    {
      "cell_type": "markdown",
      "source": [
        "Jest to o tyle lepsze, że pozwala nam nieco lepiej zinterpretować nasz wynik.\n",
        "Pokazuje, jak średnio przewidywania modelu odbiegają od wartości prawdziwych"
      ],
      "metadata": {
        "id": "nfu6-AJRjZHJ"
      }
    },
    {
      "cell_type": "code",
      "source": [
        "def root_mean_squared_error(y_true, y_pred):\n",
        "    return np.sqrt(((y_true - y_pred) ** 2).sum() / len(y_true))\n",
        "\n",
        "root_mean_squared_error(y_true, y_pred)"
      ],
      "metadata": {
        "colab": {
          "base_uri": "https://localhost:8080/"
        },
        "id": "-gMAYqssjDXH",
        "outputId": "79fe5346-9ef2-4c21-b1a5-06ab4c9aa75e"
      },
      "execution_count": 20,
      "outputs": [
        {
          "output_type": "execute_result",
          "data": {
            "text/plain": [
              "9.995841022994902"
            ]
          },
          "metadata": {},
          "execution_count": 20
        }
      ]
    },
    {
      "cell_type": "code",
      "source": [
        "np.sqrt(mean_squared_error(y_true, y_pred))"
      ],
      "metadata": {
        "colab": {
          "base_uri": "https://localhost:8080/"
        },
        "id": "yPEQMLfNizQ0",
        "outputId": "06130624-7b7c-4818-fddb-fbe0f7b5c2ec"
      },
      "execution_count": 21,
      "outputs": [
        {
          "output_type": "execute_result",
          "data": {
            "text/plain": [
              "9.995841022994902"
            ]
          },
          "metadata": {},
          "execution_count": 21
        }
      ]
    },
    {
      "cell_type": "markdown",
      "source": [
        "### <a name='a6'></a>  Max Error - Błąd maksymalny\n",
        "\n",
        "$$ME = max(|y\\_true - y\\_pred|)$$"
      ],
      "metadata": {
        "id": "0vf6c_bVjxep"
      }
    },
    {
      "cell_type": "code",
      "source": [
        "def max_error(y_true, y_pred):\n",
        "    return abs(y_true - y_pred).max()\n",
        "\n",
        "max_error(y_true, y_pred)"
      ],
      "metadata": {
        "colab": {
          "base_uri": "https://localhost:8080/"
        },
        "id": "nnNN5aTUjvtk",
        "outputId": "fe9cae62-4278-47ad-f9a1-49849d52964c"
      },
      "execution_count": 22,
      "outputs": [
        {
          "output_type": "execute_result",
          "data": {
            "text/plain": [
              "32.1725609742564"
            ]
          },
          "metadata": {},
          "execution_count": 22
        }
      ]
    },
    {
      "cell_type": "code",
      "source": [
        "from sklearn.metrics import max_error\n",
        "max_error(y_true, y_pred)"
      ],
      "metadata": {
        "colab": {
          "base_uri": "https://localhost:8080/"
        },
        "id": "clyC7tg4kGGs",
        "outputId": "608daafb-850c-4d76-a22d-e2b27bf753ca"
      },
      "execution_count": 24,
      "outputs": [
        {
          "output_type": "execute_result",
          "data": {
            "text/plain": [
              "32.1725609742564"
            ]
          },
          "metadata": {},
          "execution_count": 24
        }
      ]
    },
    {
      "cell_type": "markdown",
      "source": [
        "### <a name='a7'></a>  R2 score - współczynnik determinacji\n",
        "### $$R2\\_score = 1 - \\frac{\\sum_{i=1}^{N}(y_{true} - y_{pred})^{2}}{\\sum_{i=1}^{N}(y_{true} - \\overline{y_{true}})^{2}}$$\n",
        "\n",
        "To jest ten wykres powyżej sredniej. Zależy nam, żeby metryka ta była jak najbliżej 1"
      ],
      "metadata": {
        "id": "3l-EAuf3kcGF"
      }
    },
    {
      "cell_type": "code",
      "source": [
        "def r2_score(y_true, y_pred):\n",
        "    numerator = ((y_true - y_pred) ** 2).sum()\n",
        "    denominator = ((y_true - y_true.mean()) ** 2).sum()\n",
        "    try:\n",
        "        r2 = 1 - numerator / denominator\n",
        "    except ZeroDivisionError:\n",
        "        print('Dzielenie przez zero')\n",
        "    return r2"
      ],
      "metadata": {
        "id": "EKjHO7cAkLHM"
      },
      "execution_count": 25,
      "outputs": []
    },
    {
      "cell_type": "code",
      "source": [
        "r2_score(y_true, y_pred)"
      ],
      "metadata": {
        "colab": {
          "base_uri": "https://localhost:8080/"
        },
        "id": "wN1w1YeBkkvG",
        "outputId": "3a633d69-0f05-4487-8056-57b5088d7b8f"
      },
      "execution_count": 26,
      "outputs": [
        {
          "output_type": "execute_result",
          "data": {
            "text/plain": [
              "0.7460900082363925"
            ]
          },
          "metadata": {},
          "execution_count": 26
        }
      ]
    },
    {
      "cell_type": "code",
      "source": [
        "from sklearn.metrics import r2_score\n",
        "r2_score(y_true, y_pred)"
      ],
      "metadata": {
        "colab": {
          "base_uri": "https://localhost:8080/"
        },
        "id": "v4SkI9WtkonU",
        "outputId": "d9a2e10e-1fb4-4479-8e12-5c9ddeeca0ff"
      },
      "execution_count": 27,
      "outputs": [
        {
          "output_type": "execute_result",
          "data": {
            "text/plain": [
              "0.7460900082363925"
            ]
          },
          "metadata": {},
          "execution_count": 27
        }
      ]
    },
    {
      "cell_type": "code",
      "source": [],
      "metadata": {
        "id": "Lhb1U6rDlNos"
      },
      "execution_count": null,
      "outputs": []
    }
  ]
}