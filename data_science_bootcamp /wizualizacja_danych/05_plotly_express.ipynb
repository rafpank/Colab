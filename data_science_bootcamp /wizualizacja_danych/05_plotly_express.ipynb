{
  "nbformat": 4,
  "nbformat_minor": 0,
  "metadata": {
    "colab": {
      "provenance": [],
      "authorship_tag": "ABX9TyOa0yeLLG6vokazPeg+hbRf",
      "include_colab_link": true
    },
    "kernelspec": {
      "name": "python3",
      "display_name": "Python 3"
    },
    "language_info": {
      "name": "python"
    }
  },
  "cells": [
    {
      "cell_type": "markdown",
      "metadata": {
        "id": "view-in-github",
        "colab_type": "text"
      },
      "source": [
        "<a href=\"https://colab.research.google.com/github/rafpank/Colab/blob/main/data_science_bootcamp%20/wizualizacja_danych/05_plotly_express.ipynb\" target=\"_parent\"><img src=\"https://colab.research.google.com/assets/colab-badge.svg\" alt=\"Open In Colab\"/></a>"
      ]
    },
    {
      "cell_type": "markdown",
      "source": [
        "#Plotly Express"
      ],
      "metadata": {
        "id": "w22X-DppvMPM"
      }
    },
    {
      "cell_type": "markdown",
      "source": [
        "Strona biblioteki: https://plot.ly/python\n",
        "\n",
        "Dokumentacja: https://plot.ly/python-api-reference/\n",
        "\n",
        "Biblioteka do interaktywnych wizualizacji danych.\n",
        "\n",
        "Aby zainstalować bibliotekę Plotly Express użyj polecenia:\n",
        "\n",
        "`\n",
        "pip install plotly_express\n",
        " `\n",
        "\n"
      ],
      "metadata": {
        "id": "cZKFhc_XvRI-"
      }
    },
    {
      "cell_type": "code",
      "execution_count": null,
      "metadata": {
        "id": "0N4BOlbIvK9_"
      },
      "outputs": [],
      "source": []
    }
  ]
}